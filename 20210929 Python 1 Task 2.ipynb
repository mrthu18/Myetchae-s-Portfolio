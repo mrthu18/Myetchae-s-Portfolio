{
 "cells": [
  {
   "cell_type": "markdown",
   "source": [
    "Task 2: Write a program that asks a user for their favourite number between 1 and 100 and then tells them a joke based on the number. You should use a minimum of 3 jokes."
   ],
   "metadata": {}
  },
  {
   "cell_type": "code",
   "execution_count": 1,
   "source": [
    "favourite_number = int(input(\"What's your favourite number between 1 and 100? I will tell you a joke based on that.\"))\r\n",
    "\r\n",
    "if favourite_number in range(0,33):\r\n",
    "    print(\"What's the best thing about Switzerland? *** I don't know, but the flat is a big plus.\")\r\n",
    "elif favourite_number in range(34,66):\r\n",
    "    print(\"I invented a new word! *** Plagerism!\")\r\n",
    "elif favourite_number in range(67,100):\r\n",
    "    print(\"Did you hear about the actor who fell through the floorboards? *** He was just going through a stage.\")\r\n",
    "else:\r\n",
    "    print(\"No jokes for you. You were supposed to choose a number between 1 and 100.\")\r\n"
   ],
   "outputs": [
    {
     "output_type": "stream",
     "name": "stdout",
     "text": [
      "What's the best thing about Switzerland? *** I don't know, but the flat is a big plus.\n"
     ]
    }
   ],
   "metadata": {}
  }
 ],
 "metadata": {
  "orig_nbformat": 4,
  "language_info": {
   "name": "python",
   "version": "3.9.7",
   "mimetype": "text/x-python",
   "codemirror_mode": {
    "name": "ipython",
    "version": 3
   },
   "pygments_lexer": "ipython3",
   "nbconvert_exporter": "python",
   "file_extension": ".py"
  },
  "kernelspec": {
   "name": "python3",
   "display_name": "Python 3.9.7 64-bit"
  },
  "interpreter": {
   "hash": "713a80b115d029511af5102202b1368399df570bc2f491436292fb1c98e93296"
  }
 },
 "nbformat": 4,
 "nbformat_minor": 2
}