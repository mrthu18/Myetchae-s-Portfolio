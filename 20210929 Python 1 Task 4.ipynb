{
 "cells": [
  {
   "cell_type": "markdown",
   "source": [
    "Task 4: A motorbike costs 2,000 and loses 10% of its value every year. Using a loop, print the value of the bike every following year until it falls below 1,000."
   ],
   "metadata": {}
  },
  {
   "cell_type": "code",
   "execution_count": 1,
   "source": [
    "cost_of_motorbike = 2000\r\n",
    "\r\n",
    "while cost_of_motorbike >= 1000:\r\n",
    "    print(\"The value of motorbike is:\", cost_of_motorbike)\r\n",
    "    cost_of_motorbike *= 0.9 #Shorthand for cost_of_motorbike = cost_of_motorbike * 0.9"
   ],
   "outputs": [
    {
     "output_type": "stream",
     "name": "stdout",
     "text": [
      "The value of motorbike is: 2000\n",
      "The value of motorbike is: 1800.0\n",
      "The value of motorbike is: 1620.0\n",
      "The value of motorbike is: 1458.0\n",
      "The value of motorbike is: 1312.2\n",
      "The value of motorbike is: 1180.98\n",
      "The value of motorbike is: 1062.882\n"
     ]
    }
   ],
   "metadata": {}
  }
 ],
 "metadata": {
  "orig_nbformat": 4,
  "language_info": {
   "name": "python",
   "version": "3.9.7",
   "mimetype": "text/x-python",
   "codemirror_mode": {
    "name": "ipython",
    "version": 3
   },
   "pygments_lexer": "ipython3",
   "nbconvert_exporter": "python",
   "file_extension": ".py"
  },
  "kernelspec": {
   "name": "python3",
   "display_name": "Python 3.9.7 64-bit"
  },
  "interpreter": {
   "hash": "713a80b115d029511af5102202b1368399df570bc2f491436292fb1c98e93296"
  }
 },
 "nbformat": 4,
 "nbformat_minor": 2
}