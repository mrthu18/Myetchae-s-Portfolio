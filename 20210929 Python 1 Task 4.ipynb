{
 "cells": [
  {
   "cell_type": "code",
   "execution_count": null,
   "source": [
    "#A motorbike costs 2,000 and loses 10% of its value every year.\r\n",
    "#Using a loop, print the value of the bike every following year until it falls below 1,000.\r\n",
    "\r\n"
   ],
   "outputs": [],
   "metadata": {}
  }
 ],
 "metadata": {
  "orig_nbformat": 4,
  "language_info": {
   "name": "python"
  }
 },
 "nbformat": 4,
 "nbformat_minor": 2
}