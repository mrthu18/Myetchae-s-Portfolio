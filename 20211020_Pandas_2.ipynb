{
  "nbformat": 4,
  "nbformat_minor": 0,
  "metadata": {
    "kernelspec": {
      "display_name": "Python 3",
      "language": "python",
      "name": "python3"
    },
    "language_info": {
      "codemirror_mode": {
        "name": "ipython",
        "version": 3
      },
      "file_extension": ".py",
      "mimetype": "text/x-python",
      "name": "python",
      "nbconvert_exporter": "python",
      "pygments_lexer": "ipython3",
      "version": "3.7.4"
    },
    "metadata": {
      "interpreter": {
        "hash": "ac59ebe37160ed0dfa835113d9b8498d9f09ceb179beaac4002f036b9467c963"
      }
    },
    "colab": {
      "name": "20211020 Pandas 2.ipynb",
      "provenance": [],
      "include_colab_link": true
    }
  },
  "cells": [
    {
      "cell_type": "markdown",
      "metadata": {
        "id": "view-in-github",
        "colab_type": "text"
      },
      "source": [
        "<a href=\"https://colab.research.google.com/github/mrthu18/TTA-Home-Learning/blob/main/20211020_Pandas_2.ipynb\" target=\"_parent\"><img src=\"https://colab.research.google.com/assets/colab-badge.svg\" alt=\"Open In Colab\"/></a>"
      ]
    },
    {
      "cell_type": "markdown",
      "metadata": {
        "id": "ENmtJ2SnCr7i"
      },
      "source": [
        "**Another way to create a DataFrame**"
      ]
    },
    {
      "cell_type": "code",
      "metadata": {
        "id": "tD1JLjfNCr7q",
        "outputId": "907495a3-db37-4ed5-806b-8db84a58e645"
      },
      "source": [
        "import pandas as pd\n",
        "frame = pd.DataFrame([[8.96, 1884], [7.87, 1149], [7.13, 428]],\n",
        "                    index = [\"Copper\", \"Iron\", \"Zinc\"],\n",
        "                    columns = [\"Density g/cm3\", \"Melting Point BC\"])\n",
        "                    \n",
        "print(frame)"
      ],
      "execution_count": null,
      "outputs": [
        {
          "name": "stdout",
          "output_type": "stream",
          "text": [
            "        Density g/cm3  Melting Point BC\n",
            "Copper           8.96              1884\n",
            "Iron             7.87              1149\n",
            "Zinc             7.13               428\n"
          ]
        }
      ]
    },
    {
      "cell_type": "code",
      "metadata": {
        "id": "wzj86md0Cr7w",
        "outputId": "79c5167b-6c19-4446-e147-0ba3848bcb7b"
      },
      "source": [
        "print(frame.loc[[\"Copper\"]])"
      ],
      "execution_count": null,
      "outputs": [
        {
          "name": "stdout",
          "output_type": "stream",
          "text": [
            "        Density g/cm3  Melting Point BC\n",
            "Copper           8.96              1884\n"
          ]
        }
      ]
    },
    {
      "cell_type": "markdown",
      "metadata": {
        "id": "3LeNphPuCr7x"
      },
      "source": [
        "**Working with Larger Data Sets**"
      ]
    },
    {
      "cell_type": "code",
      "metadata": {
        "id": "IZUk7T6PCr7y"
      },
      "source": [
        "data = pd.read_csv(\"ign.csv\")\n"
      ],
      "execution_count": null,
      "outputs": []
    },
    {
      "cell_type": "code",
      "metadata": {
        "id": "hWmOzFLwCr7z"
      },
      "source": [
        "#shows number of rows and columns\n",
        "data.shape"
      ],
      "execution_count": null,
      "outputs": []
    },
    {
      "cell_type": "code",
      "metadata": {
        "id": "jfR7QO6eCr70"
      },
      "source": [
        "#first and last 5 rows\n",
        "data"
      ],
      "execution_count": null,
      "outputs": []
    },
    {
      "cell_type": "code",
      "metadata": {
        "id": "F63Ec2ZQCr72"
      },
      "source": [
        "data.head()"
      ],
      "execution_count": null,
      "outputs": []
    },
    {
      "cell_type": "code",
      "metadata": {
        "id": "JK2q2qx_Cr73"
      },
      "source": [
        "data.tail(3)"
      ],
      "execution_count": null,
      "outputs": []
    },
    {
      "cell_type": "markdown",
      "metadata": {
        "id": "j7Je7JLsCr76"
      },
      "source": [
        "   "
      ]
    },
    {
      "cell_type": "code",
      "metadata": {
        "id": "Dcjf3elpCr77"
      },
      "source": [
        "#retrieve series objects\n",
        "data[\"platform\"]"
      ],
      "execution_count": null,
      "outputs": []
    },
    {
      "cell_type": "code",
      "metadata": {
        "id": "ddNEXSUUCr77"
      },
      "source": [
        "type(data)"
      ],
      "execution_count": null,
      "outputs": []
    },
    {
      "cell_type": "markdown",
      "metadata": {
        "id": "S5FOBdVjCr78"
      },
      "source": [
        "  "
      ]
    },
    {
      "cell_type": "code",
      "metadata": {
        "id": "MakVW0VECr78"
      },
      "source": [
        "data[\"score\"].mean()\n"
      ],
      "execution_count": null,
      "outputs": []
    },
    {
      "cell_type": "code",
      "metadata": {
        "id": "Dea_BaaXCr78"
      },
      "source": [
        "#each column with numerical value\n",
        "data.mean()"
      ],
      "execution_count": null,
      "outputs": []
    },
    {
      "cell_type": "code",
      "metadata": {
        "id": "O8SmV8_kCr79"
      },
      "source": [
        "data[\"score\"] / 2"
      ],
      "execution_count": null,
      "outputs": []
    },
    {
      "cell_type": "code",
      "metadata": {
        "id": "EVirMNujCr79"
      },
      "source": [
        "data[\"score\"] * 10"
      ],
      "execution_count": null,
      "outputs": []
    },
    {
      "cell_type": "markdown",
      "metadata": {
        "id": "M3g9OEwUCr7-"
      },
      "source": [
        "  "
      ]
    },
    {
      "cell_type": "code",
      "metadata": {
        "id": "AY_mrXBwCr7-"
      },
      "source": [
        "#boolean indexing\n",
        "myfilter = data[\"score\"] > 8\n",
        "\n",
        "myfilter.head(15)"
      ],
      "execution_count": null,
      "outputs": []
    },
    {
      "cell_type": "code",
      "metadata": {
        "id": "vRaFrsA9Cr7-"
      },
      "source": [
        "#boolean indexing - creating filters\n",
        "highscore = data[myfilter]\n",
        "\n",
        "highscore.head()\n",
        "#Return the first 5 high scores"
      ],
      "execution_count": null,
      "outputs": []
    },
    {
      "cell_type": "markdown",
      "metadata": {
        "id": "F_ookiN1Cr7_"
      },
      "source": [
        "   "
      ]
    },
    {
      "cell_type": "code",
      "metadata": {
        "id": "MXwqSa2DCr7_"
      },
      "source": [
        "#multiple filters\n",
        "top_ipad_filter = (data[\"score\"] > 8) & (data[\"platform\"] == \"iPad\")\n",
        "filter = data[top_ipad_filter] \n",
        "filter.head(3)"
      ],
      "execution_count": null,
      "outputs": []
    },
    {
      "cell_type": "markdown",
      "metadata": {
        "id": "V17DQvoLCr7_"
      },
      "source": [
        "## Data Visualisation"
      ]
    },
    {
      "cell_type": "code",
      "metadata": {
        "id": "AF7xWX-OCr8A"
      },
      "source": [
        "# Setting up the dataset\n",
        "from sklearn.datasets import load_iris\n",
        "\n",
        "data = load_iris()\n",
        "df   = pd.DataFrame(data['data'], columns=data['feature_names'])\n",
        "\n",
        "df['species'] = data['target']\n",
        "\n",
        "df.head()"
      ],
      "execution_count": null,
      "outputs": []
    },
    {
      "cell_type": "markdown",
      "metadata": {
        "id": "_xdja4kHCr8A"
      },
      "source": [
        "### Line Plot"
      ]
    },
    {
      "cell_type": "code",
      "metadata": {
        "id": "L1i3EVi5Cr8A"
      },
      "source": [
        "df.plot()"
      ],
      "execution_count": null,
      "outputs": []
    },
    {
      "cell_type": "markdown",
      "metadata": {
        "id": "ddUBHQOhCr8A"
      },
      "source": [
        "### Scatter Plot"
      ]
    },
    {
      "cell_type": "code",
      "metadata": {
        "id": "kXa5Mvk1Cr8A"
      },
      "source": [
        "df.plot.scatter(x='sepal length (cm)', y='sepal width (cm)')"
      ],
      "execution_count": null,
      "outputs": []
    },
    {
      "cell_type": "code",
      "metadata": {
        "id": "e8DrXp7CCr8B"
      },
      "source": [
        "df.plot.scatter(x='sepal length (cm)', y='petal length (cm)')"
      ],
      "execution_count": null,
      "outputs": []
    },
    {
      "cell_type": "markdown",
      "metadata": {
        "id": "0cpe1OmkCr8B"
      },
      "source": [
        "### Area Plot"
      ]
    },
    {
      "cell_type": "code",
      "metadata": {
        "id": "Bhzh7nTCCr8B"
      },
      "source": [
        "columns = ['sepal length (cm)', 'petal length (cm)', 'petal width (cm)', 'sepal width (cm)']\n",
        "df[columns].plot.area()"
      ],
      "execution_count": null,
      "outputs": []
    },
    {
      "cell_type": "markdown",
      "metadata": {
        "id": "JBVhX1oQCr8B"
      },
      "source": [
        "### Bar Chart"
      ]
    },
    {
      "cell_type": "code",
      "metadata": {
        "id": "3mLmHl3tCr8B"
      },
      "source": [
        "df.groupby('species').mean().plot.bar()"
      ],
      "execution_count": null,
      "outputs": []
    },
    {
      "cell_type": "markdown",
      "metadata": {
        "id": "8E2RZgTaCr8B"
      },
      "source": [
        "### Pie Chart"
      ]
    },
    {
      "cell_type": "code",
      "metadata": {
        "id": "0EgQDBoLCr8C"
      },
      "source": [
        "df.groupby('species').count().plot.pie(y='sepal length (cm)')"
      ],
      "execution_count": null,
      "outputs": []
    },
    {
      "cell_type": "markdown",
      "metadata": {
        "id": "UVYQULswCr8C"
      },
      "source": [
        "### Histogram"
      ]
    },
    {
      "cell_type": "code",
      "metadata": {
        "id": "zXIX-1XGCr8C"
      },
      "source": [
        "df.hist(figsize = (5,9))"
      ],
      "execution_count": null,
      "outputs": []
    },
    {
      "cell_type": "markdown",
      "metadata": {
        "id": "uPEMqMizCr8C"
      },
      "source": [
        "### Kernel Density Function"
      ]
    },
    {
      "cell_type": "code",
      "metadata": {
        "id": "H8AYgC-uCr8D"
      },
      "source": [
        "df.plot.kde(subplots=True, figsize=(5,9))"
      ],
      "execution_count": null,
      "outputs": []
    },
    {
      "cell_type": "markdown",
      "metadata": {
        "id": "FeV3FPmKCr8D"
      },
      "source": [
        "### Box Plot"
      ]
    },
    {
      "cell_type": "code",
      "metadata": {
        "id": "P2zPreUkCr8D"
      },
      "source": [
        "columns = ['sepal length (cm)', 'petal length (cm)', 'petal width (cm)', 'sepal width (cm)']\n",
        "df[columns].plot.box()\n",
        "#plt.xticks(rotation='vertical') # required to work: import matplotlib as plt "
      ],
      "execution_count": null,
      "outputs": []
    },
    {
      "cell_type": "code",
      "metadata": {
        "id": "SnvEApzrCr8D"
      },
      "source": [
        "from pandas.plotting import scatter_matrix\n",
        "\n",
        "scatter_matrix(df, figsize=(10, 10))"
      ],
      "execution_count": null,
      "outputs": []
    },
    {
      "cell_type": "code",
      "metadata": {
        "id": "vsI16lOsCr8D"
      },
      "source": [
        ""
      ],
      "execution_count": null,
      "outputs": []
    },
    {
      "cell_type": "code",
      "metadata": {
        "id": "zVYqhr1pCr8D"
      },
      "source": [
        ""
      ],
      "execution_count": null,
      "outputs": []
    },
    {
      "cell_type": "code",
      "metadata": {
        "id": "7hdo_sV6Cr8E"
      },
      "source": [
        ""
      ],
      "execution_count": null,
      "outputs": []
    }
  ]
}