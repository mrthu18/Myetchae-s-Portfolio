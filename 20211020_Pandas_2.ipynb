{
  "nbformat": 4,
  "nbformat_minor": 0,
  "metadata": {
    "kernelspec": {
      "display_name": "Python 3",
      "language": "python",
      "name": "python3"
    },
    "language_info": {
      "codemirror_mode": {
        "name": "ipython",
        "version": 3
      },
      "file_extension": ".py",
      "mimetype": "text/x-python",
      "name": "python",
      "nbconvert_exporter": "python",
      "pygments_lexer": "ipython3",
      "version": "3.7.4"
    },
    "metadata": {
      "interpreter": {
        "hash": "ac59ebe37160ed0dfa835113d9b8498d9f09ceb179beaac4002f036b9467c963"
      }
    },
    "colab": {
      "name": "20211020 Pandas 2.ipynb",
      "provenance": [],
      "include_colab_link": true
    }
  },
  "cells": [
    {
      "cell_type": "markdown",
      "metadata": {
        "id": "view-in-github",
        "colab_type": "text"
      },
      "source": [
        "<a href=\"https://colab.research.google.com/github/mrthu18/TTA-Home-Learning/blob/main/20211020_Pandas_2.ipynb\" target=\"_parent\"><img src=\"https://colab.research.google.com/assets/colab-badge.svg\" alt=\"Open In Colab\"/></a>"
      ]
    },
    {
      "cell_type": "markdown",
      "metadata": {
        "id": "7TV0MuuiFBsO"
      },
      "source": [
        "**Another way to create a DataFrame**"
      ]
    },
    {
      "cell_type": "code",
      "metadata": {
        "id": "CHnP_6S8FBsR",
        "outputId": "b5cfb2ab-ac36-4e09-81a1-f9a924507be5"
      },
      "source": [
        "import pandas as pd\n",
        "frame = pd.DataFrame([[8.96, 1884], [7.87, 1149], [7.13, 428]],\n",
        "                    index = [\"Copper\", \"Iron\", \"Zinc\"],\n",
        "                    columns = [\"Density g/cm3\", \"Melting Point BC\"])\n",
        "                    \n",
        "print(frame)"
      ],
      "execution_count": null,
      "outputs": [
        {
          "name": "stdout",
          "output_type": "stream",
          "text": [
            "        Density g/cm3  Melting Point BC\n",
            "Copper           8.96              1884\n",
            "Iron             7.87              1149\n",
            "Zinc             7.13               428\n"
          ]
        }
      ]
    },
    {
      "cell_type": "code",
      "metadata": {
        "id": "rqV8o3bnFBsX",
        "outputId": "d26d65eb-44b2-4127-cd48-e49ba854ff6c"
      },
      "source": [
        "print(frame.loc[[\"Copper\"]])"
      ],
      "execution_count": null,
      "outputs": [
        {
          "name": "stdout",
          "output_type": "stream",
          "text": [
            "        Density g/cm3  Melting Point BC\n",
            "Copper           8.96              1884\n"
          ]
        }
      ]
    },
    {
      "cell_type": "markdown",
      "metadata": {
        "id": "EvQqUdAaFBsY"
      },
      "source": [
        "**Working with Larger Data Sets**"
      ]
    },
    {
      "cell_type": "code",
      "metadata": {
        "id": "5z5p8JptFBsa"
      },
      "source": [
        "data = pd.read_csv(\"ign.csv\")\n"
      ],
      "execution_count": null,
      "outputs": []
    },
    {
      "cell_type": "code",
      "metadata": {
        "id": "mgT2qqtNFBsb"
      },
      "source": [
        "#shows number of rows and columns\n",
        "data.shape"
      ],
      "execution_count": null,
      "outputs": []
    },
    {
      "cell_type": "code",
      "metadata": {
        "id": "IuXFk5TSFBsc"
      },
      "source": [
        "#first and last 5 rows\n",
        "data"
      ],
      "execution_count": null,
      "outputs": []
    },
    {
      "cell_type": "code",
      "metadata": {
        "id": "HM9w-xoFFBsd"
      },
      "source": [
        "data.head()"
      ],
      "execution_count": null,
      "outputs": []
    },
    {
      "cell_type": "code",
      "metadata": {
        "id": "P1n6vqbNFBse"
      },
      "source": [
        "data.tail(3)"
      ],
      "execution_count": null,
      "outputs": []
    },
    {
      "cell_type": "markdown",
      "metadata": {
        "id": "S6TntFQdFBsg"
      },
      "source": [
        "   "
      ]
    },
    {
      "cell_type": "code",
      "metadata": {
        "id": "7Jaa_gSyFBsi"
      },
      "source": [
        "#retrieve series objects\n",
        "data[\"platform\"]"
      ],
      "execution_count": null,
      "outputs": []
    },
    {
      "cell_type": "code",
      "metadata": {
        "id": "17eKJnG-FBsj"
      },
      "source": [
        "type(data)"
      ],
      "execution_count": null,
      "outputs": []
    },
    {
      "cell_type": "markdown",
      "metadata": {
        "id": "6SDV2j4xFBsk"
      },
      "source": [
        "  "
      ]
    },
    {
      "cell_type": "code",
      "metadata": {
        "id": "CrWTtyfGFBsm"
      },
      "source": [
        "data[\"score\"].mean()\n"
      ],
      "execution_count": null,
      "outputs": []
    },
    {
      "cell_type": "code",
      "metadata": {
        "id": "3Cd0Q7rGFBsn"
      },
      "source": [
        "#each column with numerical value\n",
        "data.mean()"
      ],
      "execution_count": null,
      "outputs": []
    },
    {
      "cell_type": "code",
      "metadata": {
        "id": "MKsMSw9DFBso"
      },
      "source": [
        "data[\"score\"] / 2"
      ],
      "execution_count": null,
      "outputs": []
    },
    {
      "cell_type": "code",
      "metadata": {
        "id": "Hs6ePEYhFBso"
      },
      "source": [
        "data[\"score\"] * 10"
      ],
      "execution_count": null,
      "outputs": []
    },
    {
      "cell_type": "markdown",
      "metadata": {
        "id": "hsr8TeM5FBso"
      },
      "source": [
        "  "
      ]
    },
    {
      "cell_type": "code",
      "metadata": {
        "id": "iRQU8ct0FBsp"
      },
      "source": [
        "#boolean indexing\n",
        "myfilter = data[\"score\"] > 8\n",
        "\n",
        "myfilter.head(15)"
      ],
      "execution_count": null,
      "outputs": []
    },
    {
      "cell_type": "code",
      "metadata": {
        "id": "qOJa8dOAFBsp"
      },
      "source": [
        "#boolean indexing - creating filters\n",
        "highscore = data[myfilter]\n",
        "\n",
        "highscore.head()\n",
        "#Return the first 5 high scores"
      ],
      "execution_count": null,
      "outputs": []
    },
    {
      "cell_type": "markdown",
      "metadata": {
        "id": "07_WAYVxFBsp"
      },
      "source": [
        "   "
      ]
    },
    {
      "cell_type": "code",
      "metadata": {
        "id": "G4q-63jOFBsq"
      },
      "source": [
        "#multiple filters\n",
        "top_ipad_filter = (data[\"score\"] > 8) & (data[\"platform\"] == \"iPad\")\n",
        "filter = data[top_ipad_filter] \n",
        "filter.head(3)"
      ],
      "execution_count": null,
      "outputs": []
    },
    {
      "cell_type": "markdown",
      "metadata": {
        "id": "je-lNIQ2FBsq"
      },
      "source": [
        "## Data Visualisation"
      ]
    },
    {
      "cell_type": "code",
      "metadata": {
        "id": "Y1CtIFaQFBsr"
      },
      "source": [
        "# Setting up the dataset\n",
        "from sklearn.datasets import load_iris\n",
        "\n",
        "data = load_iris()\n",
        "df   = pd.DataFrame(data['data'], columns=data['feature_names'])\n",
        "\n",
        "df['species'] = data['target']\n",
        "\n",
        "df.head()"
      ],
      "execution_count": null,
      "outputs": []
    },
    {
      "cell_type": "markdown",
      "metadata": {
        "id": "tnMSH3jgFBsr"
      },
      "source": [
        "### Line Plot"
      ]
    },
    {
      "cell_type": "code",
      "metadata": {
        "id": "8gfyCAsRFBss"
      },
      "source": [
        "df.plot()"
      ],
      "execution_count": null,
      "outputs": []
    },
    {
      "cell_type": "markdown",
      "metadata": {
        "id": "Evrjh0DBFBst"
      },
      "source": [
        "### Scatter Plot"
      ]
    },
    {
      "cell_type": "code",
      "metadata": {
        "id": "hwfMec38FBst"
      },
      "source": [
        "df.plot.scatter(x='sepal length (cm)', y='sepal width (cm)')"
      ],
      "execution_count": null,
      "outputs": []
    },
    {
      "cell_type": "code",
      "metadata": {
        "id": "Ocb8BJyTFBst"
      },
      "source": [
        "df.plot.scatter(x='sepal length (cm)', y='petal length (cm)')"
      ],
      "execution_count": null,
      "outputs": []
    },
    {
      "cell_type": "markdown",
      "metadata": {
        "id": "8CFj0EU_FBsu"
      },
      "source": [
        "### Area Plot"
      ]
    },
    {
      "cell_type": "code",
      "metadata": {
        "id": "iG_cnAf0FBsu"
      },
      "source": [
        "columns = ['sepal length (cm)', 'petal length (cm)', 'petal width (cm)', 'sepal width (cm)']\n",
        "df[columns].plot.area()"
      ],
      "execution_count": null,
      "outputs": []
    },
    {
      "cell_type": "markdown",
      "metadata": {
        "id": "2l8ndZbHFBsu"
      },
      "source": [
        "### Bar Chart"
      ]
    },
    {
      "cell_type": "code",
      "metadata": {
        "id": "iojMVr8xFBsu"
      },
      "source": [
        "df.groupby('species').mean().plot.bar()"
      ],
      "execution_count": null,
      "outputs": []
    },
    {
      "cell_type": "markdown",
      "metadata": {
        "id": "5NU-yH0KFBsu"
      },
      "source": [
        "### Pie Chart"
      ]
    },
    {
      "cell_type": "code",
      "metadata": {
        "id": "fV3LApoIFBsu"
      },
      "source": [
        "df.groupby('species').count().plot.pie(y='sepal length (cm)')"
      ],
      "execution_count": null,
      "outputs": []
    },
    {
      "cell_type": "markdown",
      "metadata": {
        "id": "zWjjHkCTFBsv"
      },
      "source": [
        "### Histogram"
      ]
    },
    {
      "cell_type": "code",
      "metadata": {
        "id": "xw2QaNZKFBsv"
      },
      "source": [
        "df.hist(figsize = (5,9))"
      ],
      "execution_count": null,
      "outputs": []
    },
    {
      "cell_type": "markdown",
      "metadata": {
        "id": "14oY-oRzFBsv"
      },
      "source": [
        "### Kernel Density Function"
      ]
    },
    {
      "cell_type": "code",
      "metadata": {
        "id": "WrN0OlTWFBsv"
      },
      "source": [
        "df.plot.kde(subplots=True, figsize=(5,9))"
      ],
      "execution_count": null,
      "outputs": []
    },
    {
      "cell_type": "markdown",
      "metadata": {
        "id": "LVTSdBlQFBsw"
      },
      "source": [
        "### Box Plot"
      ]
    },
    {
      "cell_type": "code",
      "metadata": {
        "id": "jn6QU5P1FBsw"
      },
      "source": [
        "columns = ['sepal length (cm)', 'petal length (cm)', 'petal width (cm)', 'sepal width (cm)']\n",
        "df[columns].plot.box()\n",
        "#plt.xticks(rotation='vertical') # required to work: import matplotlib as plt "
      ],
      "execution_count": null,
      "outputs": []
    },
    {
      "cell_type": "code",
      "metadata": {
        "id": "gxpUADmXFBsw"
      },
      "source": [
        "from pandas.plotting import scatter_matrix\n",
        "\n",
        "scatter_matrix(df, figsize=(10, 10))"
      ],
      "execution_count": null,
      "outputs": []
    },
    {
      "cell_type": "code",
      "metadata": {
        "id": "GuVF2c8zFBsw"
      },
      "source": [
        ""
      ],
      "execution_count": null,
      "outputs": []
    },
    {
      "cell_type": "code",
      "metadata": {
        "id": "8ucx26CHFBsw"
      },
      "source": [
        ""
      ],
      "execution_count": null,
      "outputs": []
    },
    {
      "cell_type": "code",
      "metadata": {
        "id": "I_uk3kxIFBsw"
      },
      "source": [
        ""
      ],
      "execution_count": null,
      "outputs": []
    }
  ]
}