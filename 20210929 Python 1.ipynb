{
 "cells": [
  {
   "cell_type": "markdown",
   "source": [
    "## Variables"
   ],
   "metadata": {}
  },
  {
   "cell_type": "code",
   "execution_count": null,
   "source": [
    "user_name       = \"Andy\"\r\n",
    "price_per_litre = 1.14\r\n",
    "\r\n",
    "userName      = \"Sat\"\r\n",
    "pricePerLitre = 1\r\n",
    "\r\n",
    "UserName      = \"Suzannah\"\r\n",
    "PricePerLitre = 1.12"
   ],
   "outputs": [],
   "metadata": {}
  },
  {
   "cell_type": "code",
   "execution_count": null,
   "source": [
    "print(\"user_name =\", user_name)\r\n",
    "print(\"price_per_litre =\", pricePerLitre)"
   ],
   "outputs": [],
   "metadata": {
    "tags": []
   }
  },
  {
   "cell_type": "code",
   "execution_count": null,
   "source": [
    "print(\"userName =\", userName)\r\n",
    "print(\"pricePerLitre =\", pricePerLitre)"
   ],
   "outputs": [],
   "metadata": {
    "tags": []
   }
  },
  {
   "cell_type": "code",
   "execution_count": null,
   "source": [
    "print(\"The value that was in the UserName is:\", UserName, \"Here is some other info\", PricePerLitre, 12, user_name, price_per_litre)\n",
    "print(\"price_per_litre =\", PricePerLitre)"
   ],
   "outputs": [],
   "metadata": {
    "tags": []
   }
  },
  {
   "cell_type": "code",
   "execution_count": null,
   "source": [
    "user_name = \"Satinder\""
   ],
   "outputs": [],
   "metadata": {}
  },
  {
   "cell_type": "code",
   "execution_count": null,
   "source": [
    "print(\"The name that is in the variable is:\", user_name)"
   ],
   "outputs": [],
   "metadata": {}
  },
  {
   "cell_type": "markdown",
   "source": [
    "## Data Types"
   ],
   "metadata": {}
  },
  {
   "cell_type": "code",
   "execution_count": null,
   "source": [
    "data_type_1 = \"iPhone 12\" # String\n",
    "data_type_2 = 3           # Integer\n",
    "data_type_3 = 3.65        # Float\n",
    "data_type_4 = True        # Boolean (True/False)"
   ],
   "outputs": [],
   "metadata": {}
  },
  {
   "cell_type": "code",
   "execution_count": null,
   "source": [
    "data_type_1"
   ],
   "outputs": [],
   "metadata": {}
  },
  {
   "cell_type": "markdown",
   "source": [
    "## Syntax Error"
   ],
   "metadata": {}
  },
  {
   "cell_type": "code",
   "execution_count": null,
   "source": [
    "user__name = 1"
   ],
   "outputs": [],
   "metadata": {}
  },
  {
   "cell_type": "code",
   "execution_count": null,
   "source": [
    "print(user_name)"
   ],
   "outputs": [],
   "metadata": {}
  },
  {
   "cell_type": "code",
   "execution_count": null,
   "source": [
    "print(\"Hello World!\")"
   ],
   "outputs": [],
   "metadata": {}
  },
  {
   "cell_type": "code",
   "execution_count": null,
   "source": [
    "print(\"Hello World!\")"
   ],
   "outputs": [],
   "metadata": {}
  },
  {
   "cell_type": "code",
   "execution_count": null,
   "source": [
    "print (\"Hello World\") "
   ],
   "outputs": [],
   "metadata": {}
  },
  {
   "cell_type": "code",
   "execution_count": null,
   "source": [
    "print(\"Hello World!\")"
   ],
   "outputs": [],
   "metadata": {}
  },
  {
   "cell_type": "code",
   "execution_count": null,
   "source": [
    "a = 10\n",
    "b = 12\n",
    "print(a + b)"
   ],
   "outputs": [],
   "metadata": {}
  },
  {
   "cell_type": "code",
   "execution_count": null,
   "source": [
    "print(\"THis is a big number\", 5 + 6 / 7 + int(\"3\") * b, \"This is the end of it\")"
   ],
   "outputs": [],
   "metadata": {}
  },
  {
   "cell_type": "markdown",
   "source": [
    "## Math Operators"
   ],
   "metadata": {}
  },
  {
   "cell_type": "markdown",
   "source": [
    "\\+ : This is to add <br>\n",
    "\\- : This is to subtrack <br>\n",
    "\\* : This is to multiply <br>\n",
    "/ : This is to divide <br>\n",
    "//: This is to divide and show the integer value <br>\n",
    "% : This shows the remainder value <br>\n",
    "\\**: This will do a multiplication to the power of <br>   \n"
   ],
   "metadata": {}
  },
  {
   "cell_type": "code",
   "execution_count": null,
   "source": [
    "numbers = 2+2+2+2+2\n",
    "print(numbers)"
   ],
   "outputs": [],
   "metadata": {
    "tags": []
   }
  },
  {
   "cell_type": "code",
   "execution_count": null,
   "source": [
    "print(8*6)"
   ],
   "outputs": [],
   "metadata": {}
  },
  {
   "cell_type": "code",
   "execution_count": null,
   "source": [
    "print(10-5+6)"
   ],
   "outputs": [],
   "metadata": {}
  },
  {
   "cell_type": "code",
   "execution_count": null,
   "source": [
    "print(2+2)"
   ],
   "outputs": [],
   "metadata": {}
  },
  {
   "cell_type": "code",
   "execution_count": null,
   "source": [
    "print (9/2)\n",
    "print (9//2)\n",
    "print (9%2)"
   ],
   "outputs": [],
   "metadata": {}
  },
  {
   "cell_type": "markdown",
   "source": [
    "## Sequencing"
   ],
   "metadata": {}
  },
  {
   "cell_type": "code",
   "execution_count": null,
   "source": [
    "\n",
    "print(\"Hello Mrs....\", surname)\n",
    "surname = \"Gray\""
   ],
   "outputs": [],
   "metadata": {}
  },
  {
   "cell_type": "markdown",
   "source": [
    "## Selection"
   ],
   "metadata": {}
  },
  {
   "cell_type": "markdown",
   "source": [
    "### Comparison Operators <br>\n",
    "<br>\n",
    "\n",
    "== : value 1's content is the same as the comparrison <br>\n",
    "\\!= : value 1's content is not the same as the comparrison <br>\n",
    "<  : Less than <br>\n",
    "\\>  : Greater than <br>\n",
    "<=  : Less than or equals to<br>\n",
    "\\>=  : Greater than or equals to <br>\n"
   ],
   "metadata": {}
  },
  {
   "cell_type": "markdown",
   "source": [
    "Can be done with just the values:"
   ],
   "metadata": {}
  },
  {
   "cell_type": "code",
   "execution_count": null,
   "source": [
    "x = 5\n",
    "\n",
    "if x == 1:\n",
    "    print(\"the number is 1\")\n",
    "    print(\"Yo\")\n",
    "    print(\"Yo\")\n",
    "    print(\"Yo\")\n",
    "elif x == 2:\n",
    "    print(\"the number is 2\")\n",
    "    print(\"Yo\")\n",
    "elif x == 4:\n",
    "    print(\"2 for the second time\")\n",
    "    print(\"Yo\")\n",
    "    print(\"Yo\")\n",
    "    print(\"Yo\")\n",
    "    print(\"Yo\")\n",
    "    print(\"Yo\")\n",
    "elif (x == 3):\n",
    "    print(\"the number is 3\")\n",
    "else:\n",
    "    print(\"x is a different number\")\n"
   ],
   "outputs": [],
   "metadata": {}
  },
  {
   "cell_type": "code",
   "execution_count": null,
   "source": [
    "if 1 == 2:\n",
    "    print(\"1 = 1\")\n",
    "else:\n",
    "    print(\"The values are not the same\")"
   ],
   "outputs": [],
   "metadata": {}
  },
  {
   "cell_type": "markdown",
   "source": [
    "Can be done with varables:"
   ],
   "metadata": {}
  },
  {
   "cell_type": "code",
   "execution_count": null,
   "source": [
    "if user_name == \"Donna\":\n",
    "    print(\"Donna is your trainer.\")\n",
    "elif user_name == \"Suzannah\":\n",
    "    print(\"Suzannah is your trainer.\")\n",
    "else:\n",
    "    print(user_name, \"is your trainer.\")"
   ],
   "outputs": [],
   "metadata": {}
  },
  {
   "cell_type": "markdown",
   "source": [
    "## User Input and Casting"
   ],
   "metadata": {}
  },
  {
   "cell_type": "code",
   "execution_count": null,
   "source": [
    "user_input = input(\"What is your name? \")"
   ],
   "outputs": [],
   "metadata": {}
  },
  {
   "cell_type": "code",
   "execution_count": null,
   "source": [
    "print(\"Hello\", user_input + \"!\", \"Hope you are well!\")"
   ],
   "outputs": [],
   "metadata": {
    "tags": []
   }
  },
  {
   "cell_type": "code",
   "execution_count": null,
   "source": [
    "user_input_age = input(\"What is your age? \")\n",
    "print(\"In two years time you will be....\", int(user_input_age) + 2, \"years old\")"
   ],
   "outputs": [],
   "metadata": {}
  },
  {
   "cell_type": "code",
   "execution_count": null,
   "source": [
    "user_input_age = int(input(\"What is your age? \"))\n",
    "print(\"In two years time you will be....\", user_input_age + 2, \"years old\")"
   ],
   "outputs": [],
   "metadata": {
    "tags": []
   }
  },
  {
   "cell_type": "markdown",
   "source": [
    "Casting changes a Data Type into another one"
   ],
   "metadata": {}
  },
  {
   "cell_type": "code",
   "execution_count": null,
   "source": [
    "into_int   = int(\"23\")\n",
    "into_float = float(\"23\")\n",
    "into_str   = str(23)"
   ],
   "outputs": [],
   "metadata": {}
  },
  {
   "cell_type": "markdown",
   "source": [
    "## Iteration"
   ],
   "metadata": {}
  },
  {
   "cell_type": "code",
   "execution_count": null,
   "source": [
    "for i in range(11): #(starting, ending, steps) -> default: (0,number provided, 1)\n",
    "    print(\"The value of i is:\", i)"
   ],
   "outputs": [],
   "metadata": {}
  },
  {
   "cell_type": "code",
   "execution_count": null,
   "source": [
    "i = 0\n",
    "\n",
    "while i <= 12:\n",
    "    print(\"The value of i is:\", i)\n",
    "    i += 2 # Short hand for i = i + 1"
   ],
   "outputs": [],
   "metadata": {}
  },
  {
   "cell_type": "code",
   "execution_count": null,
   "source": [
    "print(i)"
   ],
   "outputs": [],
   "metadata": {}
  },
  {
   "cell_type": "code",
   "execution_count": null,
   "source": [
    "import random\n",
    "\n",
    "number2 = random.randint(0,10)"
   ],
   "outputs": [],
   "metadata": {}
  },
  {
   "cell_type": "code",
   "execution_count": null,
   "source": [
    "print(number2)"
   ],
   "outputs": [],
   "metadata": {}
  },
  {
   "cell_type": "code",
   "execution_count": null,
   "source": [],
   "outputs": [],
   "metadata": {}
  }
 ],
 "metadata": {
  "kernelspec": {
   "name": "python3",
   "display_name": "Python 3.7.9 64-bit"
  },
  "language_info": {
   "codemirror_mode": {
    "name": "ipython",
    "version": 3
   },
   "file_extension": ".py",
   "mimetype": "text/x-python",
   "name": "python",
   "nbconvert_exporter": "python",
   "pygments_lexer": "ipython3",
   "version": "3.7.9"
  },
  "interpreter": {
   "hash": "636e299b37111d97eea3fe2d7ed37df9e8f924b86b1cc77d19ac23f8364ffe29"
  }
 },
 "nbformat": 4,
 "nbformat_minor": 4
}