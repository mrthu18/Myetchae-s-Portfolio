{
  "nbformat": 4,
  "nbformat_minor": 0,
  "metadata": {
    "colab": {
      "name": "20211110 Introduction to Algorithms and Data Science Principles Task 1.ipynb",
      "provenance": []
    },
    "kernelspec": {
      "name": "python3",
      "display_name": "Python 3"
    },
    "language_info": {
      "name": "python"
    }
  },
  "cells": [
    {
      "cell_type": "markdown",
      "source": [
        "#Question\n",
        "\n",
        "Select one or more choices from the list of common Machine Learning Algorithms, do some investigations and write me a short summary. I am looking for the following:\n",
        "• Is it Supervised/Unsupervised/Reinforcement learning?\n",
        "• What does the algorithm do?\n",
        "• In which situations will it be most useful?\n",
        "• (Optional) Can you find any examples of where this\n",
        "algorithm has been used?"
      ],
      "metadata": {
        "id": "URqlAn45Lx-0"
      }
    },
    {
      "cell_type": "markdown",
      "source": [
        "#Answer\n",
        "\n",
        "##1. Naive Bayes Classification\n",
        "\n",
        "Naive Bayes Classification is a supervised learning algorithm, that uses probabilistic machine learning model, and is used for classification tasks. It is however called ‘naive’ because it assumes that the features/variables are independent from each other.\n",
        "It is good in handling when many data involved, hence it is quite commonly used for classification tasks that has alot of data like the following:\n",
        "1. Email spam filtering\n",
        "2. Classifying articles/documents into each respective categories\n",
        "\n",
        "There are 3 main types of Naive Bayes classifier:\n",
        "- Multinomial Naive Bayes\n",
        "- Gaussian Naive Bayes\n",
        "- Bernoulli Naive Bayes\n",
        "\n",
        "##2. Linear Regression\n",
        "\n",
        "Linear regression is a supervised learning algorithm, that uses a linear algebra to calculate the best fit straight line to represent the linear relationship of the input data. Therefore, non-linear relationships will result in a poor learning model. Once linear regression model is formed, it can be used to predict the dependant variable using the input independent variable.\n",
        "Use cases:\n",
        "1. Predicting plant growth from fertiliser used\n",
        "2. Predicting sales from price of the product\n",
        "\n",
        "##3. Logistic Regression\n",
        "\n",
        "Logistic Regression is a supervised learning algorithm, that is uses sigmoid function to find the best fit ’S’ curve for the input data. It is used to assign observations/values to discrete set of classes. It works with categorical data, classifying into categories depending on the category they most likely belong to, as such some use example is:\n",
        "1. Categorising weights as obese or not obese\n",
        "2. Email spam filtering\n"
      ],
      "metadata": {
        "id": "UPZFNNNIL3j4"
      }
    }
  ]
}