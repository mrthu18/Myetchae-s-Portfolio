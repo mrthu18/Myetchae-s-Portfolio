{
 "cells": [
  {
   "cell_type": "markdown",
   "source": [
    "## List Indexing"
   ],
   "metadata": {}
  },
  {
   "cell_type": "code",
   "execution_count": 2,
   "source": [
    "# my_1d_list = [1,2,3,4,5,6,7,8]\n",
    "empty_list = [1, \"Hello\", 2.4, \"Now\"]\n",
    "my_1d_list = [\"Suzannah\", \"Andy\", \"Georgina\", \"Satinder\", \"Ruth\", \"Irina\", \"Natasha\", \"Alison\", ]\n",
    "print (my_1d_list) "
   ],
   "outputs": [
    {
     "output_type": "stream",
     "name": "stdout",
     "text": [
      "['Suzannah', 'Andy', 'Georgina', 'Satinder', 'Ruth', 'Irina', 'Natasha', 'Alison']\n"
     ]
    }
   ],
   "metadata": {}
  },
  {
   "cell_type": "markdown",
   "source": [
    "In Python index always starts a 0"
   ],
   "metadata": {}
  },
  {
   "cell_type": "code",
   "execution_count": 4,
   "source": [
    "my_1d_list[3]"
   ],
   "outputs": [
    {
     "output_type": "execute_result",
     "data": {
      "text/plain": [
       "'Satinder'"
      ]
     },
     "metadata": {},
     "execution_count": 4
    }
   ],
   "metadata": {}
  },
  {
   "cell_type": "code",
   "execution_count": 7,
   "source": [
    "for i in range(len(my_1d_list)):\n",
    "    print(\"The data at index location\", i, \"is:\", my_1d_list[i])"
   ],
   "outputs": [
    {
     "output_type": "stream",
     "name": "stdout",
     "text": [
      "The data at index location 0 is: Suzannah\n",
      "The data at index location 1 is: Andy\n",
      "The data at index location 2 is: Georgina\n",
      "The data at index location 3 is: Satinder\n",
      "The data at index location 4 is: Ruth\n",
      "The data at index location 5 is: Irina\n",
      "The data at index location 6 is: Natasha\n",
      "The data at index location 7 is: Alison\n"
     ]
    }
   ],
   "metadata": {
    "tags": []
   }
  },
  {
   "cell_type": "code",
   "execution_count": 6,
   "source": [
    "my_1d_list[2]"
   ],
   "outputs": [
    {
     "output_type": "execute_result",
     "data": {
      "text/plain": [
       "'Georgina'"
      ]
     },
     "metadata": {},
     "execution_count": 6
    }
   ],
   "metadata": {}
  },
  {
   "cell_type": "code",
   "execution_count": 8,
   "source": [
    "print(len(my_1d_list))"
   ],
   "outputs": [
    {
     "output_type": "stream",
     "name": "stdout",
     "text": [
      "8\n"
     ]
    }
   ],
   "metadata": {}
  },
  {
   "cell_type": "code",
   "execution_count": 17,
   "source": [
    "my_1d_list[2:8]"
   ],
   "outputs": [
    {
     "output_type": "execute_result",
     "data": {
      "text/plain": [
       "['Georgina', 'Satinder', 'Ruth', 'Irina', 'Natasha', 'Alison']"
      ]
     },
     "metadata": {},
     "execution_count": 17
    }
   ],
   "metadata": {}
  },
  {
   "cell_type": "markdown",
   "source": [
    "## 2 Dimensional Lists <br>\n",
    "2D Lists: Lists within a list <br>\n",
    "to referece you use two [], first one is the row and the second is the column."
   ],
   "metadata": {}
  },
  {
   "cell_type": "code",
   "execution_count": 18,
   "source": [
    "my_2d_list = [[1,2,3,4],\n",
    "              [5,6,7,8],\n",
    "              [9,10,11,12]\n",
    "            ]\n",
    "              \n",
    "my_2d_list"
   ],
   "outputs": [
    {
     "output_type": "execute_result",
     "data": {
      "text/plain": [
       "[[1, 2, 3, 4], [5, 6, 7, 8], [9, 10, 11, 12]]"
      ]
     },
     "metadata": {},
     "execution_count": 18
    }
   ],
   "metadata": {}
  },
  {
   "cell_type": "code",
   "execution_count": 19,
   "source": [
    "for i in range(len(my_2d_list)):\n",
    "    print(\"My list at value\", i, \"is:\", my_2d_list[i])"
   ],
   "outputs": [
    {
     "output_type": "stream",
     "name": "stdout",
     "text": [
      "My list at value 0 is: [1, 2, 3, 4]\n",
      "My list at value 1 is: [5, 6, 7, 8]\n",
      "My list at value 2 is: [9, 10, 11, 12]\n"
     ]
    }
   ],
   "metadata": {}
  },
  {
   "cell_type": "code",
   "execution_count": 25,
   "source": [
    "len(my_2d_list[2])"
   ],
   "outputs": [
    {
     "output_type": "error",
     "ename": "TypeError",
     "evalue": "object of type 'int' has no len()",
     "traceback": [
      "\u001b[0;31m---------------------------------------------------------------------------\u001b[0m",
      "\u001b[0;31mTypeError\u001b[0m                                 Traceback (most recent call last)",
      "\u001b[0;32m<ipython-input-25-b9cf7642fd60>\u001b[0m in \u001b[0;36m<module>\u001b[0;34m\u001b[0m\n\u001b[0;32m----> 1\u001b[0;31m \u001b[0mlen\u001b[0m\u001b[0;34m(\u001b[0m\u001b[0mmy_2d_list\u001b[0m\u001b[0;34m[\u001b[0m\u001b[0;36m2\u001b[0m\u001b[0;34m]\u001b[0m\u001b[0;34m[\u001b[0m\u001b[0;36m3\u001b[0m\u001b[0;34m]\u001b[0m\u001b[0;34m)\u001b[0m\u001b[0;34m\u001b[0m\u001b[0;34m\u001b[0m\u001b[0m\n\u001b[0m",
      "\u001b[0;31mTypeError\u001b[0m: object of type 'int' has no len()"
     ]
    }
   ],
   "metadata": {}
  },
  {
   "cell_type": "code",
   "execution_count": 26,
   "source": [
    "my_2d_list[2][3]"
   ],
   "outputs": [
    {
     "output_type": "execute_result",
     "data": {
      "text/plain": [
       "12"
      ]
     },
     "metadata": {},
     "execution_count": 26
    }
   ],
   "metadata": {}
  },
  {
   "cell_type": "code",
   "execution_count": 27,
   "source": [
    "for row in range(len(my_2d_list)):\n",
    "    for column in range(len(my_2d_list[row])):\n",
    "        print(\"My list at row\", row, \"and column\", column, \"is:\", my_2d_list[row][column])"
   ],
   "outputs": [
    {
     "output_type": "stream",
     "name": "stdout",
     "text": [
      "My list at row 0 and column 0 is: 1\n",
      "My list at row 0 and column 1 is: 2\n",
      "My list at row 0 and column 2 is: 3\n",
      "My list at row 0 and column 3 is: 4\n",
      "My list at row 1 and column 0 is: 5\n",
      "My list at row 1 and column 1 is: 6\n",
      "My list at row 1 and column 2 is: 7\n",
      "My list at row 1 and column 3 is: 8\n",
      "My list at row 2 and column 0 is: 9\n",
      "My list at row 2 and column 1 is: 10\n",
      "My list at row 2 and column 2 is: 11\n",
      "My list at row 2 and column 3 is: 12\n"
     ]
    }
   ],
   "metadata": {}
  },
  {
   "cell_type": "code",
   "execution_count": null,
   "source": [
    "my_2d_list[1][3][]"
   ],
   "outputs": [],
   "metadata": {}
  },
  {
   "cell_type": "markdown",
   "source": [
    "## String Handling"
   ],
   "metadata": {}
  },
  {
   "cell_type": "code",
   "execution_count": 12,
   "source": [
    "text = \"example1\""
   ],
   "outputs": [],
   "metadata": {}
  },
  {
   "cell_type": "code",
   "execution_count": 14,
   "source": [
    "text[-1]"
   ],
   "outputs": [
    {
     "output_type": "execute_result",
     "data": {
      "text/plain": [
       "'1'"
      ]
     },
     "metadata": {},
     "execution_count": 14
    }
   ],
   "metadata": {}
  },
  {
   "cell_type": "code",
   "execution_count": 30,
   "source": [
    "len(text)"
   ],
   "outputs": [
    {
     "output_type": "execute_result",
     "data": {
      "text/plain": [
       "7"
      ]
     },
     "metadata": {},
     "execution_count": 30
    }
   ],
   "metadata": {
    "tags": []
   }
  },
  {
   "cell_type": "code",
   "execution_count": 31,
   "source": [
    "for each_char in range(len(text)):\n",
    "    print(\"My character at location\", each_char, \"is:\", text[each_char])"
   ],
   "outputs": [
    {
     "output_type": "stream",
     "name": "stdout",
     "text": [
      "My character at location 0 is: e\n",
      "My character at location 1 is: x\n",
      "My character at location 2 is: a\n",
      "My character at location 3 is: m\n",
      "My character at location 4 is: p\n",
      "My character at location 5 is: l\n",
      "My character at location 6 is: e\n"
     ]
    }
   ],
   "metadata": {
    "tags": []
   }
  },
  {
   "cell_type": "code",
   "execution_count": 32,
   "source": [
    "text[2:5]"
   ],
   "outputs": [
    {
     "output_type": "execute_result",
     "data": {
      "text/plain": [
       "'amp'"
      ]
     },
     "metadata": {},
     "execution_count": 32
    }
   ],
   "metadata": {
    "tags": []
   }
  },
  {
   "cell_type": "code",
   "execution_count": 35,
   "source": [
    "text[-3]"
   ],
   "outputs": [
    {
     "output_type": "execute_result",
     "data": {
      "text/plain": [
       "'p'"
      ]
     },
     "metadata": {},
     "execution_count": 35
    }
   ],
   "metadata": {}
  },
  {
   "cell_type": "markdown",
   "source": [
    "## Storing Data"
   ],
   "metadata": {}
  },
  {
   "cell_type": "markdown",
   "source": [
    "Read  : r : This just reads the file.<br>\n",
    "Write : w : This will write over the file with new content.<br>\n",
    "Append: a : This will add at the end of the orginial content.<br>"
   ],
   "metadata": {}
  },
  {
   "cell_type": "code",
   "execution_count": 37,
   "source": [
    "my_file = open(\"data_peeps.txt\",\"w\")\n",
    "\n",
    "my_file.close()"
   ],
   "outputs": [],
   "metadata": {}
  },
  {
   "cell_type": "code",
   "execution_count": 43,
   "source": [
    "my_file = open(\"data_peeps.txt\", \"w\")\n",
    "\n",
    "for i in range(10):\n",
    "    my_file.write(str(i))\n",
    "    my_file.write(\"\\n\")\n",
    "\n",
    "my_file.close()"
   ],
   "outputs": [],
   "metadata": {}
  },
  {
   "cell_type": "code",
   "execution_count": 40,
   "source": [
    "my_file = open(\"data_peeps.txt\", \"w\")\n",
    "\n",
    "my_file.write(str(17))\n",
    "\n",
    "my_file.close()"
   ],
   "outputs": [],
   "metadata": {}
  },
  {
   "cell_type": "markdown",
   "source": [
    "note: If a text file does not already exist, if you are writing to file it will get created for you automatically.\n",
    "\n"
   ],
   "metadata": {}
  },
  {
   "cell_type": "code",
   "execution_count": 46,
   "source": [
    "# Reading\n",
    "with open(\"data_peeps.txt\", \"r\") as myfile:\n",
    "    data = myfile.read().replace('\\n', ',')\n",
    "\n",
    "myfile.close()\n",
    "\n",
    "print(data[-2])"
   ],
   "outputs": [
    {
     "output_type": "stream",
     "name": "stdout",
     "text": [
      "9\n"
     ]
    }
   ],
   "metadata": {}
  },
  {
   "cell_type": "code",
   "execution_count": 5,
   "source": [
    "# Appending\n",
    "my_file = open(\"data_peeps.txt\", \"a\")\n",
    "\n",
    "my_file.write(\"Where has it gone?\\n\")\n",
    "\n",
    "my_file.close()\n",
    "\n",
    "# Note: re-run previous cell to see where the data has gone in the txt file."
   ],
   "outputs": [],
   "metadata": {}
  },
  {
   "cell_type": "code",
   "execution_count": null,
   "source": [],
   "outputs": [],
   "metadata": {}
  }
 ],
 "metadata": {
  "kernelspec": {
   "name": "python379jvsc74a57bd0636e299b37111d97eea3fe2d7ed37df9e8f924b86b1cc77d19ac23f8364ffe29",
   "display_name": "Python 3.7.9 64-bit"
  },
  "language_info": {
   "codemirror_mode": {
    "name": "ipython",
    "version": 3
   },
   "file_extension": ".py",
   "mimetype": "text/x-python",
   "name": "python",
   "nbconvert_exporter": "python",
   "pygments_lexer": "ipython3",
   "version": "3.7.9"
  },
  "metadata": {
   "interpreter": {
    "hash": "636e299b37111d97eea3fe2d7ed37df9e8f924b86b1cc77d19ac23f8364ffe29"
   }
  }
 },
 "nbformat": 4,
 "nbformat_minor": 4
}