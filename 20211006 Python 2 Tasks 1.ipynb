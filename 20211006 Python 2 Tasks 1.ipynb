{
 "cells": [
  {
   "cell_type": "markdown",
   "source": [
    "Task 1: Create your own flow diagram, a subject of your choice (example: fastfood order) and convert it into code."
   ],
   "metadata": {}
  },
  {
   "cell_type": "code",
   "execution_count": 18,
   "source": [
    "bill = 0\r\n",
    "\r\n",
    "main_course = input(\"Today, we're doing chicken pad thai and salmon fried rice for the lunch menu. Which item would you like?\")\r\n",
    "if main_course == \"chicken pad thai\":\r\n",
    "    print(\"Chicken pad thai is £6.\")\r\n",
    "    bill += 6\r\n",
    "elif main_course == \"salmon fried rice\":\r\n",
    "    print(\"Salmon fired rice is £8.\")\r\n",
    "    bill += 8\r\n",
    "else:\r\n",
    "    print(\"Sorry, we're only offering chicken pad thai or salmon fried rice today.\")\r\n",
    "\r\n",
    "starter = input(\"Great! We're doing a promotion on our chicken satay today. Would you like some?\")\r\n",
    "if starter == \"yes\":\r\n",
    "    print(\"Chicken satay is an extra £2.\")\r\n",
    "    bill += 2\r\n",
    "elif starter == \"no\":\r\n",
    "    print(\"Okay.\")\r\n",
    "else:\r\n",
    "    print(\"Please only answer either yes or no. Thank you!\")\r\n",
    "\r\n",
    "drink = input(\"Would you like coconut juice as well?\")\r\n",
    "if drink == \"yes\":\r\n",
    "    print(\"Coconut juice is an extra £2.\")\r\n",
    "    bill += 2\r\n",
    "elif drink == \"no\":\r\n",
    "    print(\"Okay.\")\r\n",
    "else:\r\n",
    "    print(\"Please only answer either yes or no. Thank you!\")\r\n",
    "\r\n",
    "print(\"So that will be a total of £\"+ str(bill), \"please.\")\r\n"
   ],
   "outputs": [
    {
     "output_type": "stream",
     "name": "stdout",
     "text": [
      "Chicken pad thai is £6.\n",
      "Chicken satay is an extra £2.\n",
      "Coconut juice is an extra £2.\n",
      "So that will be a total of £10 please.\n"
     ]
    }
   ],
   "metadata": {}
  }
 ],
 "metadata": {
  "orig_nbformat": 4,
  "language_info": {
   "name": "python",
   "version": "3.9.7",
   "mimetype": "text/x-python",
   "codemirror_mode": {
    "name": "ipython",
    "version": 3
   },
   "pygments_lexer": "ipython3",
   "nbconvert_exporter": "python",
   "file_extension": ".py"
  },
  "kernelspec": {
   "name": "python3",
   "display_name": "Python 3.9.7 64-bit"
  },
  "interpreter": {
   "hash": "713a80b115d029511af5102202b1368399df570bc2f491436292fb1c98e93296"
  }
 },
 "nbformat": 4,
 "nbformat_minor": 2
}