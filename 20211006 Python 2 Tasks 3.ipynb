{
 "cells": [
  {
   "cell_type": "markdown",
   "source": [
    "Task 3: Write a program which will ask for two numbers from a user. Then offer an option menu to the user giving them a choice of maths operators. Once the user has selected which operator they wish to use, perform the calculation by using a procedure and passing parameters."
   ],
   "metadata": {}
  },
  {
   "cell_type": "code",
   "execution_count": 8,
   "source": [
    "def function_1():\r\n",
    "    first_number = int(input(\"Pick a number you want.\"))\r\n",
    "    second_number  = int(input(\"Then pick another number.\"))\r\n",
    "    operator = input(\"Choose a mathematical operator (+, -, *, /, %, //):\")\r\n",
    "\r\n",
    "    if operator == \"+\":\r\n",
    "        print(first_number+second_number)\r\n",
    "    elif operator == \"-\":\r\n",
    "        print(first_number-second_number)\r\n",
    "    elif operator == \"*\":\r\n",
    "        print(first_number*second_number)\r\n",
    "    elif operator == \"/\":\r\n",
    "        print(first_number/second_number)\r\n",
    "    elif operator == \"%\":\r\n",
    "        print(first_number%second_number)\r\n",
    "    elif operator == \"//\":\r\n",
    "        print(first_number//second_number)"
   ],
   "outputs": [],
   "metadata": {}
  },
  {
   "cell_type": "code",
   "execution_count": 9,
   "source": [
    "print(function_1())"
   ],
   "outputs": [
    {
     "output_type": "stream",
     "name": "stdout",
     "text": [
      "2\n",
      "None\n"
     ]
    }
   ],
   "metadata": {}
  }
 ],
 "metadata": {
  "orig_nbformat": 4,
  "language_info": {
   "name": "python",
   "version": "3.9.7",
   "mimetype": "text/x-python",
   "codemirror_mode": {
    "name": "ipython",
    "version": 3
   },
   "pygments_lexer": "ipython3",
   "nbconvert_exporter": "python",
   "file_extension": ".py"
  },
  "kernelspec": {
   "name": "python3",
   "display_name": "Python 3.9.7 64-bit"
  },
  "interpreter": {
   "hash": "713a80b115d029511af5102202b1368399df570bc2f491436292fb1c98e93296"
  }
 },
 "nbformat": 4,
 "nbformat_minor": 2
}