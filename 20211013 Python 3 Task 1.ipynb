{
  "nbformat": 4,
  "nbformat_minor": 0,
  "metadata": {
    "colab": {
      "name": "20211013 Python 3 Task 1.ipynb",
      "provenance": [],
      "authorship_tag": "ABX9TyOENVWrUFjv+n2mP6v8RUQa"
    },
    "kernelspec": {
      "name": "python3",
      "display_name": "Python 3"
    },
    "language_info": {
      "name": "python"
    }
  },
  "cells": [
    {
      "cell_type": "markdown",
      "metadata": {
        "id": "1LAHvvFVFP88"
      },
      "source": [
        "#Task 1: Write a program that allows you to enter 4 numbers and stores them in a file called “Numbers”: 3, 45, 83, 21. Have a go at ‘w’ ‘r’  ‘a’.\n"
      ]
    },
    {
      "cell_type": "code",
      "metadata": {
        "id": "cg1_1tuUFI9n"
      },
      "source": [
        "#Writing\n",
        "num_write = open(\"Numbers.txt\",\"w\")\n",
        "\n",
        "num_write.write(str(3) + \"\\n\")\n",
        "num_write.write(str(45) + \"\\n\")\n",
        "num_write.write(str(83) + \"\\n\")\n",
        "num_write.write(str(21) + \"\\n\")\n",
        "\n",
        "num_write.close()"
      ],
      "execution_count": null,
      "outputs": []
    },
    {
      "cell_type": "code",
      "metadata": {
        "id": "FmwATKEH6Di7"
      },
      "source": [
        "#Appending\n",
        "num_append = open(\"Numbers.txt\", \"a\")\n",
        "\n",
        "num_append.write(\"That's all for now.\")\n",
        "\n",
        "num_append.close()"
      ],
      "execution_count": null,
      "outputs": []
    },
    {
      "cell_type": "code",
      "metadata": {
        "id": "buCoyVFF3PHR"
      },
      "source": [
        "#Reading and assiging to a variable\n",
        "num_read = open(\"Numbers.txt\",\"r\")\n",
        "\n",
        "num = num_read.read()\n",
        "\n",
        "num_read.close()"
      ],
      "execution_count": null,
      "outputs": []
    },
    {
      "cell_type": "code",
      "metadata": {
        "colab": {
          "base_uri": "https://localhost:8080/"
        },
        "id": "wtT4Z5pQ-t4P",
        "outputId": "9e2fb6e8-127b-428a-f4ac-1e937227f706"
      },
      "source": [
        "print(num)"
      ],
      "execution_count": null,
      "outputs": [
        {
          "output_type": "stream",
          "name": "stdout",
          "text": [
            "3\n",
            "45\n",
            "83\n",
            "21\n",
            "That's all for now.\n"
          ]
        }
      ]
    }
  ]
}