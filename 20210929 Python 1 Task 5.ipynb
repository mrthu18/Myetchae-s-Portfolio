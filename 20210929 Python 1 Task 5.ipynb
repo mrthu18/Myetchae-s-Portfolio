{
 "cells": [
  {
   "cell_type": "markdown",
   "source": [
    "Task 5: Write a program which will ask for two numbers from a user. Then offer a menu to the user giving them a choice of operator. Once the user has selected which operator they wish to use, perform the calculation."
   ],
   "metadata": {}
  },
  {
   "cell_type": "code",
   "execution_count": 14,
   "source": [
    "first_number = int(input(\"Pick any number you want.\"))"
   ],
   "outputs": [],
   "metadata": {}
  },
  {
   "cell_type": "code",
   "execution_count": 15,
   "source": [
    "second_number = int(input(\"Then pick another number.\"))"
   ],
   "outputs": [],
   "metadata": {}
  },
  {
   "cell_type": "code",
   "execution_count": 17,
   "source": [
    "operator = input(\"Choose a mathematical operator (+, -, *, /, %, //):\")\r\n",
    "\r\n",
    "if operator == \"+\":\r\n",
    "    print(first_number+second_number)\r\n",
    "elif operator == \"-\":\r\n",
    "    print(first_number-second_number)\r\n",
    "elif operator == \"*\":\r\n",
    "    print(first_number*second_number)\r\n",
    "elif operator == \"/\":\r\n",
    "    print(first_number/second_number)\r\n",
    "elif operator == \"%\":\r\n",
    "    print(first_number%second_number)\r\n",
    "elif operator == \"//\":\r\n",
    "    print(first_number//second_number)"
   ],
   "outputs": [
    {
     "output_type": "stream",
     "name": "stdout",
     "text": [
      "1\n"
     ]
    }
   ],
   "metadata": {}
  }
 ],
 "metadata": {
  "orig_nbformat": 4,
  "language_info": {
   "name": "python",
   "version": "3.9.7",
   "mimetype": "text/x-python",
   "codemirror_mode": {
    "name": "ipython",
    "version": 3
   },
   "pygments_lexer": "ipython3",
   "nbconvert_exporter": "python",
   "file_extension": ".py"
  },
  "kernelspec": {
   "name": "python3",
   "display_name": "Python 3.9.7 64-bit"
  },
  "interpreter": {
   "hash": "713a80b115d029511af5102202b1368399df570bc2f491436292fb1c98e93296"
  }
 },
 "nbformat": 4,
 "nbformat_minor": 2
}