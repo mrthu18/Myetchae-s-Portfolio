{
 "cells": [
  {
   "cell_type": "code",
   "execution_count": null,
   "source": [
    "#Write a program which will ask for two numbers from a user.\r\n",
    "#Then offer a menu to the user giving them a choice of operator.\r\n",
    "#Once the user has selected which operator they wish to use, perform the calculation."
   ],
   "outputs": [],
   "metadata": {}
  }
 ],
 "metadata": {
  "orig_nbformat": 4,
  "language_info": {
   "name": "python"
  }
 },
 "nbformat": 4,
 "nbformat_minor": 2
}