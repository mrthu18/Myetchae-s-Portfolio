{
  "nbformat": 4,
  "nbformat_minor": 0,
  "metadata": {
    "colab": {
      "name": "20211020 Pandas 1 and 2 Task 1.ipynb",
      "provenance": [],
      "authorship_tag": "ABX9TyO4pSjx6XI4k+Y7OT2AWCob",
      "include_colab_link": true
    },
    "kernelspec": {
      "name": "python3",
      "display_name": "Python 3"
    },
    "language_info": {
      "name": "python"
    }
  },
  "cells": [
    {
      "cell_type": "markdown",
      "metadata": {
        "id": "view-in-github",
        "colab_type": "text"
      },
      "source": [
        "<a href=\"https://colab.research.google.com/github/mrthu18/TTA-Home-Learning/blob/main/20211020_Pandas_1_and_2_Task_1.ipynb\" target=\"_parent\"><img src=\"https://colab.research.google.com/assets/colab-badge.svg\" alt=\"Open In Colab\"/></a>"
      ]
    },
    {
      "cell_type": "markdown",
      "metadata": {
        "id": "2AkxoALZ-ZaR"
      },
      "source": [
        "# 1. How many rows and columns are there in your file?"
      ]
    },
    {
      "cell_type": "code",
      "metadata": {
        "id": "9_gtZQBEZYVc",
        "colab": {
          "base_uri": "https://localhost:8080/"
        },
        "outputId": "d03142d9-a8ba-4f69-ff54-5e6bcb714f4f"
      },
      "source": [
        "import pandas as pd\n",
        "\n",
        "url = \"https://raw.githubusercontent.com/mrthu18/TTA-Home-Learning/main/20211020%20Pandas%201%20and%202%20Task%201.csv\"\n",
        "\n",
        "holiday_destinations  = pd.read_csv(url)\n",
        "\n",
        "print(holiday_destinations)"
      ],
      "execution_count": null,
      "outputs": [
        {
          "output_type": "stream",
          "name": "stdout",
          "text": [
            "    Destination  ...  Most_Visted_City\n",
            "0        France  ...             Paris\n",
            "1       Belgium  ...             Ghent\n",
            "2   Switzerland  ...            Geneva\n",
            "3         Italy  ...            Naples\n",
            "4        Sweden  ...             Malmo\n",
            "5        Norway  ...              Oslo\n",
            "6       Denmark  ...        Copenhagen\n",
            "7   South Korea  ...       Jeju Island\n",
            "8         Japan  ...             Kyoto\n",
            "9      Thailand  ...           Bangkok\n",
            "10      Myanmar  ...             Bagan\n",
            "11      Vietnam  ...             Hanoi\n",
            "12        India  ...             Delhi\n",
            "13       Rwanda  ...            Kigali\n",
            "14        Kenya  ...            Nirobi\n",
            "\n",
            "[15 rows x 5 columns]\n"
          ]
        }
      ]
    },
    {
      "cell_type": "markdown",
      "metadata": {
        "id": "piedG2bA-l-5"
      },
      "source": [
        "# 2. Print row 3-8 ( using iloc/loc)."
      ]
    },
    {
      "cell_type": "code",
      "metadata": {
        "id": "aa_HU11yTErg",
        "colab": {
          "base_uri": "https://localhost:8080/",
          "height": 237
        },
        "outputId": "dd3be95b-6ed7-4b92-bb59-8205e41d0333"
      },
      "source": [
        "holiday_destinations.iloc[2:8]"
      ],
      "execution_count": null,
      "outputs": [
        {
          "output_type": "execute_result",
          "data": {
            "text/html": [
              "<div>\n",
              "<style scoped>\n",
              "    .dataframe tbody tr th:only-of-type {\n",
              "        vertical-align: middle;\n",
              "    }\n",
              "\n",
              "    .dataframe tbody tr th {\n",
              "        vertical-align: top;\n",
              "    }\n",
              "\n",
              "    .dataframe thead th {\n",
              "        text-align: right;\n",
              "    }\n",
              "</style>\n",
              "<table border=\"1\" class=\"dataframe\">\n",
              "  <thead>\n",
              "    <tr style=\"text-align: right;\">\n",
              "      <th></th>\n",
              "      <th>Destination</th>\n",
              "      <th>Feedback_Score</th>\n",
              "      <th>Average_Hotel_Star_Rating</th>\n",
              "      <th>Number_of_All_Inclusive_Hotels</th>\n",
              "      <th>Most_Visted_City</th>\n",
              "    </tr>\n",
              "  </thead>\n",
              "  <tbody>\n",
              "    <tr>\n",
              "      <th>2</th>\n",
              "      <td>Switzerland</td>\n",
              "      <td>8.9</td>\n",
              "      <td>4.2</td>\n",
              "      <td>9</td>\n",
              "      <td>Geneva</td>\n",
              "    </tr>\n",
              "    <tr>\n",
              "      <th>3</th>\n",
              "      <td>Italy</td>\n",
              "      <td>9.5</td>\n",
              "      <td>4.8</td>\n",
              "      <td>15</td>\n",
              "      <td>Naples</td>\n",
              "    </tr>\n",
              "    <tr>\n",
              "      <th>4</th>\n",
              "      <td>Sweden</td>\n",
              "      <td>8.5</td>\n",
              "      <td>3.8</td>\n",
              "      <td>10</td>\n",
              "      <td>Malmo</td>\n",
              "    </tr>\n",
              "    <tr>\n",
              "      <th>5</th>\n",
              "      <td>Norway</td>\n",
              "      <td>8.4</td>\n",
              "      <td>3.9</td>\n",
              "      <td>7</td>\n",
              "      <td>Oslo</td>\n",
              "    </tr>\n",
              "    <tr>\n",
              "      <th>6</th>\n",
              "      <td>Denmark</td>\n",
              "      <td>8.2</td>\n",
              "      <td>3.7</td>\n",
              "      <td>6</td>\n",
              "      <td>Copenhagen</td>\n",
              "    </tr>\n",
              "    <tr>\n",
              "      <th>7</th>\n",
              "      <td>South Korea</td>\n",
              "      <td>9.6</td>\n",
              "      <td>4.9</td>\n",
              "      <td>9</td>\n",
              "      <td>Jeju Island</td>\n",
              "    </tr>\n",
              "  </tbody>\n",
              "</table>\n",
              "</div>"
            ],
            "text/plain": [
              "   Destination  Feedback_Score  ...  Number_of_All_Inclusive_Hotels  Most_Visted_City\n",
              "2  Switzerland             8.9  ...                               9            Geneva\n",
              "3        Italy             9.5  ...                              15            Naples\n",
              "4       Sweden             8.5  ...                              10             Malmo\n",
              "5       Norway             8.4  ...                               7              Oslo\n",
              "6      Denmark             8.2  ...                               6        Copenhagen\n",
              "7  South Korea             9.6  ...                               9       Jeju Island\n",
              "\n",
              "[6 rows x 5 columns]"
            ]
          },
          "metadata": {},
          "execution_count": 48
        }
      ]
    },
    {
      "cell_type": "markdown",
      "metadata": {
        "id": "4msuMA1U-s9R"
      },
      "source": [
        "# 3. Find the mean number of all-inclusive hotels across all destinations."
      ]
    },
    {
      "cell_type": "code",
      "metadata": {
        "id": "yL9uPGa4TFmI",
        "colab": {
          "base_uri": "https://localhost:8080/"
        },
        "outputId": "3d70e3d2-41f3-4ce1-fd65-cd9a223271a3"
      },
      "source": [
        "holiday_destinations[\"Number_of_All_Inclusive_Hotels\"].mean()"
      ],
      "execution_count": null,
      "outputs": [
        {
          "output_type": "execute_result",
          "data": {
            "text/plain": [
              "9.0"
            ]
          },
          "metadata": {},
          "execution_count": 50
        }
      ]
    },
    {
      "cell_type": "markdown",
      "metadata": {
        "id": "eT6re_DL-4JQ"
      },
      "source": [
        "# 4. Find the lowest scoring destination."
      ]
    },
    {
      "cell_type": "code",
      "metadata": {
        "id": "iJJ8DZcLTGD0",
        "colab": {
          "base_uri": "https://localhost:8080/"
        },
        "outputId": "9aa72609-f3c9-4a24-89f6-23a08e9b5149"
      },
      "source": [
        "holiday_destinations.Destination[holiday_destinations.Feedback_Score ==  holiday_destinations[\"Feedback_Score\"].min()]"
      ],
      "execution_count": null,
      "outputs": [
        {
          "output_type": "execute_result",
          "data": {
            "text/plain": [
              "13    Rwanda\n",
              "Name: Destination, dtype: object"
            ]
          },
          "metadata": {},
          "execution_count": 51
        }
      ]
    },
    {
      "cell_type": "markdown",
      "metadata": {
        "id": "FWFwR3j_-87J"
      },
      "source": [
        "# 5. Find the highest scoring destination."
      ]
    },
    {
      "cell_type": "code",
      "metadata": {
        "id": "7pkPGgMpTGYu",
        "colab": {
          "base_uri": "https://localhost:8080/"
        },
        "outputId": "623d450b-7712-4fbd-e66b-eec3fc32abdb"
      },
      "source": [
        "holiday_destinations.Destination[holiday_destinations.Feedback_Score ==  holiday_destinations[\"Feedback_Score\"].max()]"
      ],
      "execution_count": null,
      "outputs": [
        {
          "output_type": "execute_result",
          "data": {
            "text/plain": [
              "7    South Korea\n",
              "Name: Destination, dtype: object"
            ]
          },
          "metadata": {},
          "execution_count": 52
        }
      ]
    },
    {
      "cell_type": "markdown",
      "metadata": {
        "id": "opbNV4ZM_Cpp"
      },
      "source": [
        "# 6. Find all the destinations where there are more than 9 all-inclusive hotels."
      ]
    },
    {
      "cell_type": "code",
      "metadata": {
        "id": "xKePn_pYTGo_",
        "colab": {
          "base_uri": "https://localhost:8080/"
        },
        "outputId": "f06cb3dd-4499-495f-f6e3-368bddfc0ef1"
      },
      "source": [
        "holiday_destinations.Destination[holiday_destinations.Number_of_All_Inclusive_Hotels >9]"
      ],
      "execution_count": null,
      "outputs": [
        {
          "output_type": "execute_result",
          "data": {
            "text/plain": [
              "0      France\n",
              "3       Italy\n",
              "4      Sweden\n",
              "9    Thailand\n",
              "Name: Destination, dtype: object"
            ]
          },
          "metadata": {},
          "execution_count": 55
        }
      ]
    },
    {
      "cell_type": "markdown",
      "metadata": {
        "id": "IZ_ue3t6_HjW"
      },
      "source": [
        "# 7. Filter the data by score above 8."
      ]
    },
    {
      "cell_type": "code",
      "metadata": {
        "id": "gYowSFk7TG5a",
        "colab": {
          "base_uri": "https://localhost:8080/",
          "height": 425
        },
        "outputId": "8cafa08c-ba8b-4cca-ca46-a67d0f09ba43"
      },
      "source": [
        "holiday_destinations[holiday_destinations.Feedback_Score >8]"
      ],
      "execution_count": null,
      "outputs": [
        {
          "output_type": "execute_result",
          "data": {
            "text/html": [
              "<div>\n",
              "<style scoped>\n",
              "    .dataframe tbody tr th:only-of-type {\n",
              "        vertical-align: middle;\n",
              "    }\n",
              "\n",
              "    .dataframe tbody tr th {\n",
              "        vertical-align: top;\n",
              "    }\n",
              "\n",
              "    .dataframe thead th {\n",
              "        text-align: right;\n",
              "    }\n",
              "</style>\n",
              "<table border=\"1\" class=\"dataframe\">\n",
              "  <thead>\n",
              "    <tr style=\"text-align: right;\">\n",
              "      <th></th>\n",
              "      <th>Destination</th>\n",
              "      <th>Feedback_Score</th>\n",
              "      <th>Average_Hotel_Star_Rating</th>\n",
              "      <th>Number_of_All_Inclusive_Hotels</th>\n",
              "      <th>Most_Visted_City</th>\n",
              "    </tr>\n",
              "  </thead>\n",
              "  <tbody>\n",
              "    <tr>\n",
              "      <th>0</th>\n",
              "      <td>France</td>\n",
              "      <td>9.4</td>\n",
              "      <td>4.5</td>\n",
              "      <td>12</td>\n",
              "      <td>Paris</td>\n",
              "    </tr>\n",
              "    <tr>\n",
              "      <th>1</th>\n",
              "      <td>Belgium</td>\n",
              "      <td>8.1</td>\n",
              "      <td>4.6</td>\n",
              "      <td>8</td>\n",
              "      <td>Ghent</td>\n",
              "    </tr>\n",
              "    <tr>\n",
              "      <th>2</th>\n",
              "      <td>Switzerland</td>\n",
              "      <td>8.9</td>\n",
              "      <td>4.2</td>\n",
              "      <td>9</td>\n",
              "      <td>Geneva</td>\n",
              "    </tr>\n",
              "    <tr>\n",
              "      <th>3</th>\n",
              "      <td>Italy</td>\n",
              "      <td>9.5</td>\n",
              "      <td>4.8</td>\n",
              "      <td>15</td>\n",
              "      <td>Naples</td>\n",
              "    </tr>\n",
              "    <tr>\n",
              "      <th>4</th>\n",
              "      <td>Sweden</td>\n",
              "      <td>8.5</td>\n",
              "      <td>3.8</td>\n",
              "      <td>10</td>\n",
              "      <td>Malmo</td>\n",
              "    </tr>\n",
              "    <tr>\n",
              "      <th>5</th>\n",
              "      <td>Norway</td>\n",
              "      <td>8.4</td>\n",
              "      <td>3.9</td>\n",
              "      <td>7</td>\n",
              "      <td>Oslo</td>\n",
              "    </tr>\n",
              "    <tr>\n",
              "      <th>6</th>\n",
              "      <td>Denmark</td>\n",
              "      <td>8.2</td>\n",
              "      <td>3.7</td>\n",
              "      <td>6</td>\n",
              "      <td>Copenhagen</td>\n",
              "    </tr>\n",
              "    <tr>\n",
              "      <th>7</th>\n",
              "      <td>South Korea</td>\n",
              "      <td>9.6</td>\n",
              "      <td>4.9</td>\n",
              "      <td>9</td>\n",
              "      <td>Jeju Island</td>\n",
              "    </tr>\n",
              "    <tr>\n",
              "      <th>8</th>\n",
              "      <td>Japan</td>\n",
              "      <td>9.2</td>\n",
              "      <td>4.2</td>\n",
              "      <td>8</td>\n",
              "      <td>Kyoto</td>\n",
              "    </tr>\n",
              "    <tr>\n",
              "      <th>9</th>\n",
              "      <td>Thailand</td>\n",
              "      <td>8.6</td>\n",
              "      <td>4.4</td>\n",
              "      <td>13</td>\n",
              "      <td>Bangkok</td>\n",
              "    </tr>\n",
              "    <tr>\n",
              "      <th>10</th>\n",
              "      <td>Myanmar</td>\n",
              "      <td>8.8</td>\n",
              "      <td>4.3</td>\n",
              "      <td>9</td>\n",
              "      <td>Bagan</td>\n",
              "    </tr>\n",
              "    <tr>\n",
              "      <th>11</th>\n",
              "      <td>Vietnam</td>\n",
              "      <td>8.2</td>\n",
              "      <td>4.7</td>\n",
              "      <td>8</td>\n",
              "      <td>Hanoi</td>\n",
              "    </tr>\n",
              "  </tbody>\n",
              "</table>\n",
              "</div>"
            ],
            "text/plain": [
              "    Destination  ...  Most_Visted_City\n",
              "0        France  ...             Paris\n",
              "1       Belgium  ...             Ghent\n",
              "2   Switzerland  ...            Geneva\n",
              "3         Italy  ...            Naples\n",
              "4        Sweden  ...             Malmo\n",
              "5        Norway  ...              Oslo\n",
              "6       Denmark  ...        Copenhagen\n",
              "7   South Korea  ...       Jeju Island\n",
              "8         Japan  ...             Kyoto\n",
              "9      Thailand  ...           Bangkok\n",
              "10      Myanmar  ...             Bagan\n",
              "11      Vietnam  ...             Hanoi\n",
              "\n",
              "[12 rows x 5 columns]"
            ]
          },
          "metadata": {},
          "execution_count": 56
        }
      ]
    },
    {
      "cell_type": "markdown",
      "metadata": {
        "id": "D0eQCd-9_P9U"
      },
      "source": [
        "# 8. Filter the data score below 2 ( I need to know if these destinations should be removed or there is a problem)."
      ]
    },
    {
      "cell_type": "code",
      "metadata": {
        "id": "hexBfwKNTHIw",
        "colab": {
          "base_uri": "https://localhost:8080/",
          "height": 49
        },
        "outputId": "fcf8ddf7-f8c8-47ac-cfc9-6e37bf9929af"
      },
      "source": [
        "holiday_destinations[holiday_destinations.Feedback_Score <2]"
      ],
      "execution_count": null,
      "outputs": [
        {
          "output_type": "execute_result",
          "data": {
            "text/html": [
              "<div>\n",
              "<style scoped>\n",
              "    .dataframe tbody tr th:only-of-type {\n",
              "        vertical-align: middle;\n",
              "    }\n",
              "\n",
              "    .dataframe tbody tr th {\n",
              "        vertical-align: top;\n",
              "    }\n",
              "\n",
              "    .dataframe thead th {\n",
              "        text-align: right;\n",
              "    }\n",
              "</style>\n",
              "<table border=\"1\" class=\"dataframe\">\n",
              "  <thead>\n",
              "    <tr style=\"text-align: right;\">\n",
              "      <th></th>\n",
              "      <th>Destination</th>\n",
              "      <th>Feedback_Score</th>\n",
              "      <th>Average_Hotel_Star_Rating</th>\n",
              "      <th>Number_of_All_Inclusive_Hotels</th>\n",
              "      <th>Most_Visted_City</th>\n",
              "    </tr>\n",
              "  </thead>\n",
              "  <tbody>\n",
              "  </tbody>\n",
              "</table>\n",
              "</div>"
            ],
            "text/plain": [
              "Empty DataFrame\n",
              "Columns: [Destination, Feedback_Score, Average_Hotel_Star_Rating, Number_of_All_Inclusive_Hotels, Most_Visted_City]\n",
              "Index: []"
            ]
          },
          "metadata": {},
          "execution_count": 57
        }
      ]
    },
    {
      "cell_type": "markdown",
      "metadata": {
        "id": "ZsM44GGr_UM9"
      },
      "source": [
        "# Extension 1: Is there a correlation between number of all-inclusive hotels and score?"
      ]
    },
    {
      "cell_type": "code",
      "metadata": {
        "id": "VerrUrp2THd5",
        "colab": {
          "base_uri": "https://localhost:8080/",
          "height": 143
        },
        "outputId": "b4cfc0c5-9d34-408b-b191-00283ca145c3"
      },
      "source": [
        "holiday_destinations.corr()"
      ],
      "execution_count": null,
      "outputs": [
        {
          "output_type": "execute_result",
          "data": {
            "text/html": [
              "<div>\n",
              "<style scoped>\n",
              "    .dataframe tbody tr th:only-of-type {\n",
              "        vertical-align: middle;\n",
              "    }\n",
              "\n",
              "    .dataframe tbody tr th {\n",
              "        vertical-align: top;\n",
              "    }\n",
              "\n",
              "    .dataframe thead th {\n",
              "        text-align: right;\n",
              "    }\n",
              "</style>\n",
              "<table border=\"1\" class=\"dataframe\">\n",
              "  <thead>\n",
              "    <tr style=\"text-align: right;\">\n",
              "      <th></th>\n",
              "      <th>Feedback_Score</th>\n",
              "      <th>Average_Hotel_Star_Rating</th>\n",
              "      <th>Number_of_All_Inclusive_Hotels</th>\n",
              "    </tr>\n",
              "  </thead>\n",
              "  <tbody>\n",
              "    <tr>\n",
              "      <th>Feedback_Score</th>\n",
              "      <td>1.000000</td>\n",
              "      <td>0.786626</td>\n",
              "      <td>0.636031</td>\n",
              "    </tr>\n",
              "    <tr>\n",
              "      <th>Average_Hotel_Star_Rating</th>\n",
              "      <td>0.786626</td>\n",
              "      <td>1.000000</td>\n",
              "      <td>0.587783</td>\n",
              "    </tr>\n",
              "    <tr>\n",
              "      <th>Number_of_All_Inclusive_Hotels</th>\n",
              "      <td>0.636031</td>\n",
              "      <td>0.587783</td>\n",
              "      <td>1.000000</td>\n",
              "    </tr>\n",
              "  </tbody>\n",
              "</table>\n",
              "</div>"
            ],
            "text/plain": [
              "                                Feedback_Score  ...  Number_of_All_Inclusive_Hotels\n",
              "Feedback_Score                        1.000000  ...                        0.636031\n",
              "Average_Hotel_Star_Rating             0.786626  ...                        0.587783\n",
              "Number_of_All_Inclusive_Hotels        0.636031  ...                        1.000000\n",
              "\n",
              "[3 rows x 3 columns]"
            ]
          },
          "metadata": {},
          "execution_count": 91
        }
      ]
    },
    {
      "cell_type": "markdown",
      "metadata": {
        "id": "ZhFoYt8G_ZSb"
      },
      "source": [
        "# Extension 2: Create a data visualisation diagram to show destination and highest scores."
      ]
    },
    {
      "cell_type": "code",
      "metadata": {
        "id": "FAgoN8GsTHyV",
        "colab": {
          "base_uri": "https://localhost:8080/",
          "height": 349
        },
        "outputId": "37d746c7-fc66-49dd-851e-d632f5b16db1"
      },
      "source": [
        "highest_feedback_scores = holiday_destinations[holiday_destinations.Feedback_Score >8]\n",
        "\n",
        "highest_feedback_scores.plot.bar(x = \"Destination\", y = \"Feedback_Score\")"
      ],
      "execution_count": null,
      "outputs": [
        {
          "output_type": "execute_result",
          "data": {
            "text/plain": [
              "<matplotlib.axes._subplots.AxesSubplot at 0x7f084ad58f10>"
            ]
          },
          "metadata": {},
          "execution_count": 87
        },
        {
          "output_type": "display_data",
          "data": {
            "image/png": "[encoded data removed]",
            "text/plain": [
              "<Figure size 432x288 with 1 Axes>"
            ]
          },
          "metadata": {
            "needs_background": "light"
          }
        }
      ]
    }
  ]
}