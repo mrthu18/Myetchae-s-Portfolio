{
 "cells": [
  {
   "cell_type": "markdown",
   "source": [
    "Task 1: Write a program that does the following: Stores a random number (1-10) in a variable. #Asks a user for their name and stores this in a variable. #Asks a user to guess the number between 1 and 10. #Tells the user whether they have guessed correctly."
   ],
   "metadata": {}
  },
  {
   "cell_type": "code",
   "execution_count": 25,
   "source": [
    "import random\r\n",
    "name = input(\"Hi! What is your name?\")\r\n",
    "random_number = random.randint(1,10)\r\n",
    "print(name+ \", I'm thinking of a number between 1 and 10.\")"
   ],
   "outputs": [
    {
     "output_type": "stream",
     "name": "stdout",
     "text": [
      "Rose, I'm thinking of a number between 1 and 10.\n"
     ]
    }
   ],
   "metadata": {}
  },
  {
   "cell_type": "code",
   "execution_count": 26,
   "source": [
    "guess = int(input(\"Take a guess:\"))\r\n",
    "\r\n",
    "if guess == random_number:\r\n",
    "    print(\"Well done,\", name + \"! You guessed it right.\")\r\n",
    "else:\r\n",
    "    print(\"Sorry, you guessed it wrong.\")"
   ],
   "outputs": [
    {
     "output_type": "stream",
     "name": "stdout",
     "text": [
      "Sorry, you guessed it wrong.\n"
     ]
    }
   ],
   "metadata": {}
  },
  {
   "cell_type": "code",
   "execution_count": null,
   "source": [
    "print(random_number)"
   ],
   "outputs": [
    {
     "output_type": "stream",
     "name": "stdout",
     "text": [
      "9\n"
     ]
    }
   ],
   "metadata": {}
  }
 ],
 "metadata": {
  "orig_nbformat": 4,
  "language_info": {
   "name": "python",
   "version": "3.9.7",
   "mimetype": "text/x-python",
   "codemirror_mode": {
    "name": "ipython",
    "version": 3
   },
   "pygments_lexer": "ipython3",
   "nbconvert_exporter": "python",
   "file_extension": ".py"
  },
  "kernelspec": {
   "name": "python3",
   "display_name": "Python 3.9.7 64-bit"
  },
  "interpreter": {
   "hash": "713a80b115d029511af5102202b1368399df570bc2f491436292fb1c98e93296"
  }
 },
 "nbformat": 4,
 "nbformat_minor": 2
}