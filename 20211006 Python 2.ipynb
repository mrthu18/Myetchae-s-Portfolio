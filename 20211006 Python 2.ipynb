{
 "cells": [
  {
   "cell_type": "markdown",
   "source": [
    "If, If Else and Else"
   ],
   "metadata": {}
  },
  {
   "cell_type": "code",
   "execution_count": 1,
   "source": [
    "menuOption=int(input(\"Select an option 1,2 or 3\"))\r\n",
    "\r\n",
    "if (menuOption==1):\r\n",
    "    print (\"These are all the Running Trainers\")\r\n",
    "elif(menuOption==2):\r\n",
    "    print (\"These are all the Classics\")\r\n",
    "elif(menuOption==3):\r\n",
    "    print (\"These are all the Boots and Shoes\")\r\n",
    "else:\r\n",
    "    print (\"You didn’t choose the correct option\")"
   ],
   "outputs": [
    {
     "output_type": "stream",
     "name": "stdout",
     "text": [
      "These are all the Running Trainers\n"
     ]
    }
   ],
   "metadata": {
    "tags": []
   }
  },
  {
   "cell_type": "markdown",
   "source": [
    "## Imbedded Tasks <br>\n",
    "For Loops:"
   ],
   "metadata": {}
  },
  {
   "cell_type": "code",
   "execution_count": 2,
   "source": [
    "for i in range(10):\r\n",
    "    for j in range(10):\r\n",
    "        print(\"i:\", i, \"j:\", j) \r\n",
    "    print(\"start of the next loop\")"
   ],
   "outputs": [
    {
     "output_type": "stream",
     "name": "stdout",
     "text": [
      "i: 0 j: 0\n",
      "i: 0 j: 1\n",
      "i: 0 j: 2\n",
      "i: 0 j: 3\n",
      "i: 0 j: 4\n",
      "i: 0 j: 5\n",
      "i: 0 j: 6\n",
      "i: 0 j: 7\n",
      "i: 0 j: 8\n",
      "i: 0 j: 9\n",
      "start of the next loop\n",
      "i: 1 j: 0\n",
      "i: 1 j: 1\n",
      "i: 1 j: 2\n",
      "i: 1 j: 3\n",
      "i: 1 j: 4\n",
      "i: 1 j: 5\n",
      "i: 1 j: 6\n",
      "i: 1 j: 7\n",
      "i: 1 j: 8\n",
      "i: 1 j: 9\n",
      "start of the next loop\n",
      "i: 2 j: 0\n",
      "i: 2 j: 1\n",
      "i: 2 j: 2\n",
      "i: 2 j: 3\n",
      "i: 2 j: 4\n",
      "i: 2 j: 5\n",
      "i: 2 j: 6\n",
      "i: 2 j: 7\n",
      "i: 2 j: 8\n",
      "i: 2 j: 9\n",
      "start of the next loop\n",
      "i: 3 j: 0\n",
      "i: 3 j: 1\n",
      "i: 3 j: 2\n",
      "i: 3 j: 3\n",
      "i: 3 j: 4\n",
      "i: 3 j: 5\n",
      "i: 3 j: 6\n",
      "i: 3 j: 7\n",
      "i: 3 j: 8\n",
      "i: 3 j: 9\n",
      "start of the next loop\n",
      "i: 4 j: 0\n",
      "i: 4 j: 1\n",
      "i: 4 j: 2\n",
      "i: 4 j: 3\n",
      "i: 4 j: 4\n",
      "i: 4 j: 5\n",
      "i: 4 j: 6\n",
      "i: 4 j: 7\n",
      "i: 4 j: 8\n",
      "i: 4 j: 9\n",
      "start of the next loop\n",
      "i: 5 j: 0\n",
      "i: 5 j: 1\n",
      "i: 5 j: 2\n",
      "i: 5 j: 3\n",
      "i: 5 j: 4\n",
      "i: 5 j: 5\n",
      "i: 5 j: 6\n",
      "i: 5 j: 7\n",
      "i: 5 j: 8\n",
      "i: 5 j: 9\n",
      "start of the next loop\n",
      "i: 6 j: 0\n",
      "i: 6 j: 1\n",
      "i: 6 j: 2\n",
      "i: 6 j: 3\n",
      "i: 6 j: 4\n",
      "i: 6 j: 5\n",
      "i: 6 j: 6\n",
      "i: 6 j: 7\n",
      "i: 6 j: 8\n",
      "i: 6 j: 9\n",
      "start of the next loop\n",
      "i: 7 j: 0\n",
      "i: 7 j: 1\n",
      "i: 7 j: 2\n",
      "i: 7 j: 3\n",
      "i: 7 j: 4\n",
      "i: 7 j: 5\n",
      "i: 7 j: 6\n",
      "i: 7 j: 7\n",
      "i: 7 j: 8\n",
      "i: 7 j: 9\n",
      "start of the next loop\n",
      "i: 8 j: 0\n",
      "i: 8 j: 1\n",
      "i: 8 j: 2\n",
      "i: 8 j: 3\n",
      "i: 8 j: 4\n",
      "i: 8 j: 5\n",
      "i: 8 j: 6\n",
      "i: 8 j: 7\n",
      "i: 8 j: 8\n",
      "i: 8 j: 9\n",
      "start of the next loop\n",
      "i: 9 j: 0\n",
      "i: 9 j: 1\n",
      "i: 9 j: 2\n",
      "i: 9 j: 3\n",
      "i: 9 j: 4\n",
      "i: 9 j: 5\n",
      "i: 9 j: 6\n",
      "i: 9 j: 7\n",
      "i: 9 j: 8\n",
      "i: 9 j: 9\n",
      "start of the next loop\n"
     ]
    }
   ],
   "metadata": {
    "tags": []
   }
  },
  {
   "cell_type": "markdown",
   "source": [
    "If Statements"
   ],
   "metadata": {}
  },
  {
   "cell_type": "code",
   "execution_count": 10,
   "source": [
    "number1 = 1\r\n",
    "number2 = 3\r\n",
    "number3 = 4\r\n",
    "\r\n",
    "if number1 == 1:\r\n",
    "    if number2 == 3:\r\n",
    "        print(\"Both numbers match up\")\r\n",
    "        if number3 == 4:\r\n",
    "            print(\"I'm going deeper into this line!\")\r\n",
    "        else:\r\n",
    "            \r\n",
    "    else:\r\n",
    "        print(\"First number matches but not the second\")\r\n",
    "else:\r\n",
    "    if number2 == 2:\r\n",
    "        print(\"Only the second numbers match up\")\r\n",
    "    else:\r\n",
    "        print(\"None match\") "
   ],
   "outputs": [
    {
     "output_type": "stream",
     "name": "stdout",
     "text": [
      "Both numbers match up\n",
      "I'm going deeper into this line!\n"
     ]
    }
   ],
   "metadata": {
    "tags": []
   }
  },
  {
   "cell_type": "markdown",
   "source": [
    "## Logical Operators <br>\n",
    "and: Returns true if both conditions are met <br>\n",
    "or : Returns true if both or one condition is met <br>\n",
    "not: Returns the opposite to the returned value"
   ],
   "metadata": {}
  },
  {
   "cell_type": "code",
   "execution_count": 16,
   "source": [
    "age = int(input(\"What is your age?: \"))\r\n",
    "\r\n",
    "if (age > 17) and (age <= 50):\r\n",
    "    print(\"You can learn to drive\")\r\n",
    "elif age > 50 and age <60:\r\n",
    "    print(\"You can learn to drive, but better learn soon!\")\r\n",
    "else:\r\n",
    "    print(\"You cannot learn to drive\")"
   ],
   "outputs": [
    {
     "output_type": "stream",
     "name": "stdout",
     "text": [
      "You cannot learn to drive\n"
     ]
    }
   ],
   "metadata": {
    "tags": []
   }
  },
  {
   "cell_type": "code",
   "execution_count": 15,
   "source": [
    "number = int(input(\"Enter a number smaller than 10: \"))\r\n",
    "\r\n",
    "if number == 1 or number == 3 or number == 5 or number  == 7 or number == 9:\r\n",
    "    print(\"You entered an ODD number\")\r\n",
    "else:\r\n",
    "    print(\"You entered an EVEN number\")"
   ],
   "outputs": [
    {
     "output_type": "stream",
     "name": "stdout",
     "text": [
      "You entered an ODD number\n"
     ]
    }
   ],
   "metadata": {
    "tags": []
   }
  },
  {
   "cell_type": "markdown",
   "source": [
    "## Functions and Procedures <br>\n",
    "Both functions and Procedures are created the same.<br>\n",
    "Procedures will just carry out the action."
   ],
   "metadata": {}
  },
  {
   "cell_type": "code",
   "execution_count": 1,
   "source": [
    "def procedure_1():\r\n",
    "    name = input(\"What is your name? \")\r\n",
    "    age  = int(input(\"What is your age? \"))\r\n",
    "\r\n",
    "    print(\"Hello\", name + \"! You will be\", age + 1, \"For your next birthday!\")"
   ],
   "outputs": [],
   "metadata": {}
  },
  {
   "cell_type": "code",
   "execution_count": 2,
   "source": [
    "procedure_1()"
   ],
   "outputs": [
    {
     "output_type": "stream",
     "name": "stdout",
     "text": [
      "What is your name?  Suzannah\n",
      "What is your age?  21\n"
     ]
    },
    {
     "output_type": "stream",
     "name": "stdout",
     "text": [
      "Hello Suzannah! You will be 22 For your next birthday!\n"
     ]
    }
   ],
   "metadata": {
    "tags": []
   }
  },
  {
   "cell_type": "markdown",
   "source": [
    "Lets create a Function. The difference with these is that they return a value."
   ],
   "metadata": {}
  },
  {
   "cell_type": "code",
   "execution_count": 17,
   "source": [
    "def function_1():\r\n",
    "    name = input(\"What is your name? \")\r\n",
    "    age  = int(input(\"What is your age? \"))\r\n",
    "\r\n",
    "    output = \"Hello \" + name + \"! You will be \" + str(age + 1) + \" For your next birthday!\"\r\n",
    "\r\n",
    "    return output"
   ],
   "outputs": [],
   "metadata": {}
  },
  {
   "cell_type": "code",
   "execution_count": 18,
   "source": [
    "message = function_1()"
   ],
   "outputs": [
    {
     "output_type": "stream",
     "name": "stdout",
     "text": [
      "What is your name?  Suzannah\n",
      "What is your age?  21\n"
     ]
    }
   ],
   "metadata": {
    "tags": []
   }
  },
  {
   "cell_type": "code",
   "execution_count": 13,
   "source": [
    "print(message)"
   ],
   "outputs": [
    {
     "output_type": "stream",
     "name": "stdout",
     "text": [
      "('Suzannah', 21, 'Hello Suzannah! You will be 22 For your next birthday!')\n"
     ]
    }
   ],
   "metadata": {}
  },
  {
   "cell_type": "markdown",
   "source": [
    "Parameter Passing"
   ],
   "metadata": {}
  },
  {
   "cell_type": "code",
   "execution_count": 19,
   "source": [
    "def procedure_2(inp_name,inp_age):\r\n",
    "    print(\"Hello\", inp_name + \"! You will be \", str(inp_age + 1), \"For your next birthday!\")"
   ],
   "outputs": [],
   "metadata": {}
  },
  {
   "cell_type": "code",
   "execution_count": 21,
   "source": [
    "name = input(\"What is your name? \")\r\n",
    "age  = int(input(\"What is your age? \"))"
   ],
   "outputs": [
    {
     "output_type": "stream",
     "name": "stdout",
     "text": [
      "What is your name?  Suzannah\n",
      "What is your age?  21\n"
     ]
    }
   ],
   "metadata": {
    "tags": []
   }
  },
  {
   "cell_type": "code",
   "execution_count": 22,
   "source": [
    "procedure_2(name, age)"
   ],
   "outputs": [
    {
     "output_type": "stream",
     "name": "stdout",
     "text": [
      "Hello Suzannah! You will be  22 For your next birthday!\n"
     ]
    }
   ],
   "metadata": {}
  },
  {
   "cell_type": "code",
   "execution_count": 23,
   "source": [
    "name1 = \"Joe Bloggs\"\r\n",
    "age1 = 23"
   ],
   "outputs": [],
   "metadata": {}
  },
  {
   "cell_type": "code",
   "execution_count": 24,
   "source": [
    "procedure_2(name1, age1)"
   ],
   "outputs": [
    {
     "output_type": "stream",
     "name": "stdout",
     "text": [
      "Hello Joe Bloggs! You will be  24 For your next birthday!\n"
     ]
    }
   ],
   "metadata": {}
  },
  {
   "cell_type": "markdown",
   "source": [
    "It is important that the order the values are passed in match the order the function/procedure requires them."
   ],
   "metadata": {}
  },
  {
   "cell_type": "code",
   "execution_count": 25,
   "source": [
    "procedure_2(age,name)\r\n"
   ],
   "outputs": [
    {
     "output_type": "error",
     "ename": "TypeError",
     "evalue": "unsupported operand type(s) for +: 'int' and 'str'",
     "traceback": [
      "\u001b[1;31m---------------------------------------------------------------------------\u001b[0m",
      "\u001b[1;31mTypeError\u001b[0m                                 Traceback (most recent call last)",
      "\u001b[1;32m<ipython-input-25-a3ca19071d16>\u001b[0m in \u001b[0;36m<module>\u001b[1;34m\u001b[0m\n\u001b[1;32m----> 1\u001b[1;33m \u001b[0mprocedure_2\u001b[0m\u001b[1;33m(\u001b[0m\u001b[0mage\u001b[0m\u001b[1;33m,\u001b[0m\u001b[0mname\u001b[0m\u001b[1;33m)\u001b[0m\u001b[1;33m\u001b[0m\u001b[1;33m\u001b[0m\u001b[0m\n\u001b[0m",
      "\u001b[1;32m<ipython-input-19-d8df852e4e0a>\u001b[0m in \u001b[0;36mprocedure_2\u001b[1;34m(inp_name, inp_age)\u001b[0m\n\u001b[0;32m      1\u001b[0m \u001b[1;32mdef\u001b[0m \u001b[0mprocedure_2\u001b[0m\u001b[1;33m(\u001b[0m\u001b[0minp_name\u001b[0m\u001b[1;33m,\u001b[0m\u001b[0minp_age\u001b[0m\u001b[1;33m)\u001b[0m\u001b[1;33m:\u001b[0m\u001b[1;33m\u001b[0m\u001b[1;33m\u001b[0m\u001b[0m\n\u001b[1;32m----> 2\u001b[1;33m     \u001b[0mprint\u001b[0m\u001b[1;33m(\u001b[0m\u001b[1;34m\"Hello\"\u001b[0m\u001b[1;33m,\u001b[0m \u001b[0minp_name\u001b[0m \u001b[1;33m+\u001b[0m \u001b[1;34m\"! You will be \"\u001b[0m\u001b[1;33m,\u001b[0m \u001b[0mstr\u001b[0m\u001b[1;33m(\u001b[0m\u001b[0minp_age\u001b[0m \u001b[1;33m+\u001b[0m \u001b[1;36m1\u001b[0m\u001b[1;33m)\u001b[0m\u001b[1;33m,\u001b[0m \u001b[1;34m\"For your next birthday!\"\u001b[0m\u001b[1;33m)\u001b[0m\u001b[1;33m\u001b[0m\u001b[1;33m\u001b[0m\u001b[0m\n\u001b[0m",
      "\u001b[1;31mTypeError\u001b[0m: unsupported operand type(s) for +: 'int' and 'str'"
     ]
    }
   ],
   "metadata": {}
  },
  {
   "cell_type": "markdown",
   "source": [
    "Functions/Parameters can call other functions/parameters"
   ],
   "metadata": {}
  },
  {
   "cell_type": "code",
   "execution_count": 26,
   "source": [
    "def function_3():\r\n",
    "    name = input(\"What is your name? \")\r\n",
    "    age  = int(input(\"What is your age? \"))\r\n",
    "\r\n",
    "    output = \"Hello \" + name + \"! You will be \" + str(age + 1) + \" For your next birthday!\"\r\n",
    "\r\n",
    "    return output\r\n",
    "\r\n"
   ],
   "outputs": [],
   "metadata": {}
  },
  {
   "cell_type": "code",
   "execution_count": 27,
   "source": [
    "message = function_3()\r\n",
    "print(message)"
   ],
   "outputs": [
    {
     "output_type": "stream",
     "name": "stdout",
     "text": [
      "What is your name?  Suzannah\n",
      "What is your age?  21\n"
     ]
    },
    {
     "output_type": "stream",
     "name": "stdout",
     "text": [
      "Hello Suzannah! You will be 22 For your next birthday!\n"
     ]
    }
   ],
   "metadata": {}
  },
  {
   "cell_type": "code",
   "execution_count": 28,
   "source": [
    "def procedure_3():\r\n",
    "    \r\n",
    "    message = function_3()\r\n",
    "\r\n",
    "    print(message)\r\n"
   ],
   "outputs": [],
   "metadata": {}
  },
  {
   "cell_type": "code",
   "execution_count": 29,
   "source": [
    "procedure_3()"
   ],
   "outputs": [
    {
     "output_type": "stream",
     "name": "stdout",
     "text": [
      "What is your name?  Suzannah\n",
      "What is your age?  21\n"
     ]
    },
    {
     "output_type": "stream",
     "name": "stdout",
     "text": [
      "Hello Suzannah! You will be 22 For your next birthday!\n"
     ]
    }
   ],
   "metadata": {}
  },
  {
   "cell_type": "markdown",
   "source": [
    "**PSEUDOCODE!!!**"
   ],
   "metadata": {}
  }
 ],
 "metadata": {
  "interpreter": {
   "hash": "713a80b115d029511af5102202b1368399df570bc2f491436292fb1c98e93296"
  },
  "kernelspec": {
   "name": "python3",
   "display_name": "Python 3.9.7 64-bit"
  },
  "language_info": {
   "codemirror_mode": {
    "name": "ipython",
    "version": 3
   },
   "file_extension": ".py",
   "mimetype": "text/x-python",
   "name": "python",
   "nbconvert_exporter": "python",
   "pygments_lexer": "ipython3",
   "version": "3.9.7"
  }
 },
 "nbformat": 4,
 "nbformat_minor": 4
}