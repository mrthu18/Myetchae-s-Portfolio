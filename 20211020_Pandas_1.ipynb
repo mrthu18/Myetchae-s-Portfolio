{
  "nbformat": 4,
  "nbformat_minor": 0,
  "metadata": {
    "kernelspec": {
      "name": "python394jvsc74a57bd0ac59ebe37160ed0dfa835113d9b8498d9f09ceb179beaac4002f036b9467c963",
      "display_name": "Python 3.9.4 64-bit"
    },
    "language_info": {
      "codemirror_mode": {
        "name": "ipython",
        "version": 3
      },
      "file_extension": ".py",
      "mimetype": "text/x-python",
      "name": "python",
      "nbconvert_exporter": "python",
      "pygments_lexer": "ipython3",
      "version": "3.9.4"
    },
    "metadata": {
      "interpreter": {
        "hash": "ac59ebe37160ed0dfa835113d9b8498d9f09ceb179beaac4002f036b9467c963"
      }
    },
    "colab": {
      "name": "20211020 Pandas 1.ipynb",
      "provenance": [],
      "include_colab_link": true
    }
  },
  "cells": [
    {
      "cell_type": "markdown",
      "metadata": {
        "id": "view-in-github",
        "colab_type": "text"
      },
      "source": [
        "<a href=\"https://colab.research.google.com/github/mrthu18/TTA-Home-Learning/blob/main/20211020_Pandas_1.ipynb\" target=\"_parent\"><img src=\"https://colab.research.google.com/assets/colab-badge.svg\" alt=\"Open In Colab\"/></a>"
      ]
    },
    {
      "cell_type": "code",
      "metadata": {
        "id": "h6C8VZQrCg2M"
      },
      "source": [
        "## Import Pandas\n",
        "import pandas as pd"
      ],
      "execution_count": null,
      "outputs": []
    },
    {
      "cell_type": "markdown",
      "metadata": {
        "id": "8BxFKC0UCg2S"
      },
      "source": [
        "Slide 6"
      ]
    },
    {
      "cell_type": "code",
      "metadata": {
        "id": "qJz_pnGECg2X",
        "outputId": "0abd7039-b981-4971-fce3-da85cb27f3ac"
      },
      "source": [
        "# setup a one dimensional array-like object\n",
        "# The word Series must start with a capital letter otherwise you get a syntax error\n",
        "\n",
        "\n",
        "myseries = pd.Series([439, 98.54, 'Hello World', 'Sea Breeze', -342])\n",
        "mylist = [439, 98.54, 'Hello World', 'Sea Breeze', -342]\n",
        "\n",
        "# print the data in series\n",
        "print(myseries)\n",
        "print(mylist)\n",
        "\n",
        "# when the data is printed what do you notice?"
      ],
      "execution_count": null,
      "outputs": [
        {
          "output_type": "stream",
          "name": "stdout",
          "text": [
            "0            439\n1          98.54\n2    Hello World\n3     Sea Breeze\n4           -342\ndtype: object\n[439, 98.54, 'Hello World', 'Sea Breeze', -342]\n"
          ]
        }
      ]
    },
    {
      "cell_type": "markdown",
      "metadata": {
        "id": "j8qHkKcbCg2a"
      },
      "source": [
        "Slide 8"
      ]
    },
    {
      "cell_type": "code",
      "metadata": {
        "id": "q7Fxg7eiCg2b",
        "outputId": "18a351c9-619d-45fb-c902-4f56514f49d7"
      },
      "source": [
        "#create data\n",
        "\n",
        "inventory = {\"Code\": [475984412, 475871129, 476214584, 475854812],\n",
        "            \"Produce\": [\"Avocado\", \"Banana\", \"Courgette\", \"Cauliflower\"],\n",
        "            \"Origin\": [\"Mexico\", \"Costa Rica\", \"France\", \"UK\"],\n",
        "            \"Price\": [1.75, 0.73, 2.00, 1.80]}\n",
        "\n",
        "\n",
        "\n",
        "print(inventory)\n",
        "# create variable\n",
        "\n",
        "myframe = pd.DataFrame(inventory)\n",
        "#Remember the capitals both D & F\n",
        "\n",
        "# print variable\n",
        "print(myframe)"
      ],
      "execution_count": null,
      "outputs": [
        {
          "output_type": "stream",
          "name": "stdout",
          "text": [
            "{'Code': [475984412, 475871129, 476214584, 475854812], 'Produce': ['Avocado', 'Banana', 'Courgette', 'Cauliflower'], 'Origin': ['Mexico', 'Costa Rica', 'France', 'UK'], 'Price': [1.75, 0.73, 2.0, 1.8]}\n        Code      Produce      Origin  Price\n0  475984412      Avocado      Mexico   1.75\n1  475871129       Banana  Costa Rica   0.73\n2  476214584    Courgette      France   2.00\n3  475854812  Cauliflower          UK   1.80\n"
          ]
        }
      ]
    },
    {
      "cell_type": "markdown",
      "metadata": {
        "id": "qb7FLfItCg2c"
      },
      "source": [
        "Slide 9"
      ]
    },
    {
      "cell_type": "code",
      "metadata": {
        "id": "tsTuSy_DCg2d",
        "outputId": "fc219ee3-ca95-4f01-9634-34c0afda858a"
      },
      "source": [
        "## create index\n",
        "myframe.index = [\"AV\", \"BN\", \"CG\", \"CF\"]\n",
        "## When creating an index, be aware that the index values need to be unique\n",
        "\n",
        "print(myframe)"
      ],
      "execution_count": null,
      "outputs": [
        {
          "output_type": "stream",
          "name": "stdout",
          "text": [
            "         Code      Produce      Origin  Price\nAV  475984412      Avocado      Mexico   1.75\nBN  475871129       Banana  Costa Rica   0.73\nCG  476214584    Courgette      France   2.00\nCF  475854812  Cauliflower          UK   1.80\n"
          ]
        }
      ]
    },
    {
      "cell_type": "markdown",
      "metadata": {
        "id": "1WBNzmidCg2f"
      },
      "source": [
        "Slide 10 + 11 "
      ]
    },
    {
      "cell_type": "code",
      "metadata": {
        "id": "c6xGfKs2Cg2i",
        "outputId": "f182446b-9e8f-47b7-c043-73b645be9170"
      },
      "source": [
        "##read the csv file using pd.read_csv\n",
        "vetdata = pd.read_csv(\"vet_data.csv\")\n",
        "#Ensure that your csv file in within the same folder as your python file\n",
        "print(vetdata)"
      ],
      "execution_count": null,
      "outputs": [
        {
          "output_type": "stream",
          "name": "stdout",
          "text": [
            "   Owner_Surname  Pet_Name  Pet_Age  Last_Visit      Type Chipped Unnamed: 6\n0          Adams    Fluffy        2  11/05/2020       Cat     Yes           \n1          Smith      Zuko        8  30/01/2019       Dog     Yes        NaN\n2      Radcliffe      Nala        4  24/11/2019       Dog     Yes        NaN\n3        Holland  Mr Chips       10  15/06/2019       Dog      No        NaN\n4         Potter     Daisy        9  07/04/2020    Rabbit     Yes        NaN\n5         Sorola     Oscar        1  27/02/2020   Hamster      No        NaN\n6           Pike     Pepsi        6  18/09/2019       Cat     Yes        NaN\n7         Murray    George       17  12/02/2020  Tortoise      No        NaN\n8          Aston     Monty        3  09/03/2020       Dog     Yes        NaN\n9         Waller       Flo        7  06/05/2019       Cat     Yes        NaN\n10   De la Force     Anton        2  31/08/2019       Cat      No        NaN\n11          Reed     Farah        5  02/03/2020     Horse      No        NaN\n12      Martinez     Homer        6  24/11/2019       Dog     Yes        NaN\n13            Li      Iggy        5  14/12/2019       Dog     Yes        NaN\n14     Rodriquez     Bobby        3  28/02/2020    Rabbit      No        NaN\n"
          ]
        }
      ]
    },
    {
      "cell_type": "code",
      "metadata": {
        "id": "kQTTlG5jCg2l"
      },
      "source": [
        "#print columns\n",
        "print(vetdata[\"Pet_Age\"])"
      ],
      "execution_count": null,
      "outputs": []
    },
    {
      "cell_type": "code",
      "metadata": {
        "id": "rXUPAxfzCg2n"
      },
      "source": [
        "print(vetdata[\"Pet_Name\"])"
      ],
      "execution_count": null,
      "outputs": []
    },
    {
      "cell_type": "code",
      "metadata": {
        "id": "CT8N9fDJCg2n"
      },
      "source": [
        "##retrieving multiple columns as dataframe\n",
        "print(vetdata[[\"Type\", \"Pet_Age\", \"Chipped\"]])"
      ],
      "execution_count": null,
      "outputs": []
    },
    {
      "cell_type": "code",
      "metadata": {
        "id": "q77V5TvLCg2o"
      },
      "source": [
        "#delet\n",
        "vetdata.drop([6])"
      ],
      "execution_count": null,
      "outputs": []
    },
    {
      "cell_type": "code",
      "metadata": {
        "id": "X3fQ0E4XCg2o"
      },
      "source": [
        "print(vetdata)"
      ],
      "execution_count": null,
      "outputs": []
    },
    {
      "cell_type": "markdown",
      "metadata": {
        "id": "Zdhfg95bCg2p"
      },
      "source": [
        "Slide 12"
      ]
    },
    {
      "cell_type": "code",
      "metadata": {
        "id": "RBmjL5yUCg2p"
      },
      "source": [
        "## Print the first 4 observations (rows)\n",
        "vetdata[0:4]"
      ],
      "execution_count": null,
      "outputs": []
    },
    {
      "cell_type": "code",
      "metadata": {
        "id": "ygLocdPXCg2q"
      },
      "source": [
        "vetdata[8:12]"
      ],
      "execution_count": null,
      "outputs": []
    },
    {
      "cell_type": "markdown",
      "metadata": {
        "id": "Y5_VIe8GCg2r"
      },
      "source": [
        "Slide 13 + 14"
      ]
    },
    {
      "cell_type": "code",
      "metadata": {
        "id": "VATnJXpBCg2r"
      },
      "source": [
        "vetdata.iloc[[0]]"
      ],
      "execution_count": null,
      "outputs": []
    },
    {
      "cell_type": "code",
      "metadata": {
        "id": "XhnVo9bSCg2s"
      },
      "source": [
        "## read the csv file using pd.read_csv\n",
        "vetdata2 = pd.read_csv(\"vet_data.csv\", index_col=\"Owner_Surname\")\n",
        "\n",
        "## Print out observations for Smith and Sorola\n",
        "print(vetdata2.loc[[\"Smith\", \"Sorola\"]])\n",
        "\n",
        "# print(vetdata.iloc[[6,8]])\n"
      ],
      "execution_count": null,
      "outputs": []
    },
    {
      "cell_type": "code",
      "metadata": {
        "id": "84-Hi62sCg2t"
      },
      "source": [
        "#retrieve data bases on index\n",
        "vetdata.loc[vetdata.Pet_Name == \"Monty\"]"
      ],
      "execution_count": null,
      "outputs": []
    },
    {
      "cell_type": "code",
      "metadata": {
        "id": "QSIXeFBlCg2u"
      },
      "source": [
        "vetdata.loc[vetdata.Chipped == \"Yes\"]"
      ],
      "execution_count": null,
      "outputs": []
    },
    {
      "cell_type": "code",
      "metadata": {
        "id": "V8PHyu1CCg2v"
      },
      "source": [
        "#retirve 8th row and 5th column\n",
        "data = pd.read_csv(\"vet_data.csv\")\n",
        "print(data.iloc[7,4])"
      ],
      "execution_count": null,
      "outputs": []
    },
    {
      "cell_type": "code",
      "metadata": {
        "id": "yoRQInZ8Cg2w"
      },
      "source": [
        "#retrieve a range\n",
        "data = pd.read_csv(\"vet_data.csv\")\n",
        "print(data.iloc[3:7,2:4])"
      ],
      "execution_count": null,
      "outputs": []
    },
    {
      "cell_type": "code",
      "metadata": {
        "id": "zlgoPWPJCg2x"
      },
      "source": [
        "vetdata2"
      ],
      "execution_count": null,
      "outputs": []
    },
    {
      "cell_type": "code",
      "metadata": {
        "id": "kPjwheTeCg2x"
      },
      "source": [
        ""
      ],
      "execution_count": null,
      "outputs": []
    }
  ]
}